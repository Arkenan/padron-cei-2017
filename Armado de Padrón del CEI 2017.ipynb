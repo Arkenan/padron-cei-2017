{
 "cells": [
  {
   "cell_type": "code",
   "execution_count": 155,
   "metadata": {
    "collapsed": true
   },
   "outputs": [],
   "source": [
    "import pandas as pd\n",
    "import matplotlib.pyplot as plt\n",
    "import seaborn as sns\n",
    "import numpy as np"
   ]
  },
  {
   "cell_type": "code",
   "execution_count": 156,
   "metadata": {
    "collapsed": false
   },
   "outputs": [],
   "source": [
    "cei_16 = pd.read_csv(\"CEI_16.csv\")\n",
    "cd_17 = pd.read_csv(\"CD_17.csv\", sep=\";\")\n",
    "grad_16 = pd.read_csv(\"graduados_16.csv\")"
   ]
  },
  {
   "cell_type": "markdown",
   "metadata": {},
   "source": [
    "### Forma general de las cosas"
   ]
  },
  {
   "cell_type": "code",
   "execution_count": 157,
   "metadata": {
    "collapsed": false
   },
   "outputs": [
    {
     "data": {
      "text/html": [
       "<div>\n",
       "<table border=\"1\" class=\"dataframe\">\n",
       "  <thead>\n",
       "    <tr style=\"text-align: right;\">\n",
       "      <th></th>\n",
       "      <th>N° ORDEN</th>\n",
       "      <th>NOMBRE</th>\n",
       "      <th>Padrón</th>\n",
       "      <th>DNI</th>\n",
       "    </tr>\n",
       "  </thead>\n",
       "  <tbody>\n",
       "    <tr>\n",
       "      <th>0</th>\n",
       "      <td>1</td>\n",
       "      <td>AAS, PETTER FOSSAN</td>\n",
       "      <td>100346</td>\n",
       "      <td>29086232</td>\n",
       "    </tr>\n",
       "    <tr>\n",
       "      <th>1</th>\n",
       "      <td>2</td>\n",
       "      <td>ABABOU, KHALIL</td>\n",
       "      <td>97708</td>\n",
       "      <td>RA1057904</td>\n",
       "    </tr>\n",
       "  </tbody>\n",
       "</table>\n",
       "</div>"
      ],
      "text/plain": [
       "   N° ORDEN              NOMBRE  Padrón        DNI\n",
       "0         1  AAS, PETTER FOSSAN  100346   29086232\n",
       "1         2      ABABOU, KHALIL   97708  RA1057904"
      ]
     },
     "execution_count": 157,
     "metadata": {},
     "output_type": "execute_result"
    }
   ],
   "source": [
    "cei_16.head(2)"
   ]
  },
  {
   "cell_type": "code",
   "execution_count": 158,
   "metadata": {
    "collapsed": false
   },
   "outputs": [
    {
     "data": {
      "text/html": [
       "<div>\n",
       "<table border=\"1\" class=\"dataframe\">\n",
       "  <thead>\n",
       "    <tr style=\"text-align: right;\">\n",
       "      <th></th>\n",
       "      <th>N° ORDEN</th>\n",
       "      <th>NOMBRE</th>\n",
       "      <th>Padrón</th>\n",
       "      <th>DNI</th>\n",
       "    </tr>\n",
       "  </thead>\n",
       "  <tbody>\n",
       "    <tr>\n",
       "      <th>0</th>\n",
       "      <td>1</td>\n",
       "      <td>ABAD, ARIEL IGNACIO</td>\n",
       "      <td>86213</td>\n",
       "      <td>32166584</td>\n",
       "    </tr>\n",
       "    <tr>\n",
       "      <th>1</th>\n",
       "      <td>2</td>\n",
       "      <td>ABADI, BETINA</td>\n",
       "      <td>93386</td>\n",
       "      <td>35902423</td>\n",
       "    </tr>\n",
       "  </tbody>\n",
       "</table>\n",
       "</div>"
      ],
      "text/plain": [
       "   N° ORDEN               NOMBRE  Padrón       DNI\n",
       "0         1  ABAD, ARIEL IGNACIO   86213  32166584\n",
       "1         2        ABADI, BETINA   93386  35902423"
      ]
     },
     "execution_count": 158,
     "metadata": {},
     "output_type": "execute_result"
    }
   ],
   "source": [
    "cd_17.head(2)"
   ]
  },
  {
   "cell_type": "code",
   "execution_count": 159,
   "metadata": {
    "collapsed": false
   },
   "outputs": [
    {
     "data": {
      "text/html": [
       "<div>\n",
       "<table border=\"1\" class=\"dataframe\">\n",
       "  <thead>\n",
       "    <tr style=\"text-align: right;\">\n",
       "      <th></th>\n",
       "      <th>N° ORDEN</th>\n",
       "      <th>NOMBRE</th>\n",
       "      <th>Padrón</th>\n",
       "      <th>DNI</th>\n",
       "    </tr>\n",
       "  </thead>\n",
       "  <tbody>\n",
       "    <tr>\n",
       "      <th>0</th>\n",
       "      <td>30</td>\n",
       "      <td>ABITANTE, CARLOS ALBERTO</td>\n",
       "      <td>79742</td>\n",
       "      <td>27177606</td>\n",
       "    </tr>\n",
       "    <tr>\n",
       "      <th>1</th>\n",
       "      <td>50</td>\n",
       "      <td>ACEVEDO, FERNANDO GUSTAVO</td>\n",
       "      <td>78374</td>\n",
       "      <td>27822506</td>\n",
       "    </tr>\n",
       "  </tbody>\n",
       "</table>\n",
       "</div>"
      ],
      "text/plain": [
       "   N° ORDEN                     NOMBRE  Padrón       DNI\n",
       "0        30   ABITANTE, CARLOS ALBERTO   79742  27177606\n",
       "1        50  ACEVEDO, FERNANDO GUSTAVO   78374  27822506"
      ]
     },
     "execution_count": 159,
     "metadata": {},
     "output_type": "execute_result"
    }
   ],
   "source": [
    "grad_16.head(2)"
   ]
  },
  {
   "cell_type": "markdown",
   "metadata": {},
   "source": [
    "## Chequeo de tipos"
   ]
  },
  {
   "cell_type": "code",
   "execution_count": 160,
   "metadata": {
    "collapsed": false,
    "scrolled": false
   },
   "outputs": [
    {
     "data": {
      "text/plain": [
       "N° ORDEN     int64\n",
       "NOMBRE      object\n",
       "Padrón       int64\n",
       "DNI          int64\n",
       "dtype: object"
      ]
     },
     "execution_count": 160,
     "metadata": {},
     "output_type": "execute_result"
    }
   ],
   "source": [
    "cd_17.dtypes"
   ]
  },
  {
   "cell_type": "code",
   "execution_count": 161,
   "metadata": {
    "collapsed": false,
    "scrolled": false
   },
   "outputs": [
    {
     "data": {
      "text/plain": [
       "N° ORDEN     int64\n",
       "NOMBRE      object\n",
       "Padrón      object\n",
       "DNI         object\n",
       "dtype: object"
      ]
     },
     "execution_count": 161,
     "metadata": {},
     "output_type": "execute_result"
    }
   ],
   "source": [
    "cei_16.dtypes"
   ]
  },
  {
   "cell_type": "markdown",
   "metadata": {},
   "source": [
    "Por algún motivo el del CEI no agarra bien a todos los padrones como números. Esto causaría problemas. Vamos a chequear por qué."
   ]
  },
  {
   "cell_type": "code",
   "execution_count": 162,
   "metadata": {
    "collapsed": false
   },
   "outputs": [],
   "source": [
    "pad = pd.to_numeric(cei_16[\"Padrón\"], errors=\"force\")"
   ]
  },
  {
   "cell_type": "code",
   "execution_count": 163,
   "metadata": {
    "collapsed": false
   },
   "outputs": [
    {
     "data": {
      "text/html": [
       "<div>\n",
       "<table border=\"1\" class=\"dataframe\">\n",
       "  <thead>\n",
       "    <tr style=\"text-align: right;\">\n",
       "      <th></th>\n",
       "      <th>N° ORDEN</th>\n",
       "      <th>NOMBRE</th>\n",
       "      <th>Padrón</th>\n",
       "      <th>DNI</th>\n",
       "    </tr>\n",
       "  </thead>\n",
       "  <tbody>\n",
       "    <tr>\n",
       "      <th>9780</th>\n",
       "      <td>9781</td>\n",
       "      <td>SALAZAR VARGAS, CARLOS ROBERTO</td>\n",
       "      <td>B0239</td>\n",
       "      <td>93890243</td>\n",
       "    </tr>\n",
       "  </tbody>\n",
       "</table>\n",
       "</div>"
      ],
      "text/plain": [
       "      N° ORDEN                          NOMBRE Padrón       DNI\n",
       "9780      9781  SALAZAR VARGAS, CARLOS ROBERTO  B0239  93890243"
      ]
     },
     "execution_count": 163,
     "metadata": {},
     "output_type": "execute_result"
    }
   ],
   "source": [
    "cei_16[pad.isnull()]"
   ]
  },
  {
   "cell_type": "markdown",
   "metadata": {},
   "source": [
    "Hay **1 padrón fallado**. Este nos hacía que el padrón fuera una string en cei_16, lo cual nos arruinaría un join por padrón. Haremos un append y quitaremos repetidos luego."
   ]
  },
  {
   "cell_type": "markdown",
   "metadata": {},
   "source": [
    "Pasamos todo en cd a string para que sea más fácil chequear duplicados y comparar."
   ]
  },
  {
   "cell_type": "code",
   "execution_count": 164,
   "metadata": {
    "collapsed": false
   },
   "outputs": [],
   "source": [
    "cd_17[\"Padrón\"] = cd_17[\"Padrón\"].apply(str)\n",
    "cd_17[\"DNI\"] = cd_17[\"DNI\"].apply(str)\n",
    "grad_16[\"Padrón\"] = grad_16[\"Padrón\"].apply(str)\n",
    "grad_16[\"DNI\"] = grad_16[\"DNI\"].apply(str)"
   ]
  },
  {
   "cell_type": "markdown",
   "metadata": {},
   "source": [
    "## Chequeo de duplicados en cada uno."
   ]
  },
  {
   "cell_type": "markdown",
   "metadata": {},
   "source": [
    "### Graduados"
   ]
  },
  {
   "cell_type": "code",
   "execution_count": 165,
   "metadata": {
    "collapsed": false
   },
   "outputs": [
    {
     "data": {
      "text/plain": [
       "0"
      ]
     },
     "execution_count": 165,
     "metadata": {},
     "output_type": "execute_result"
    }
   ],
   "source": [
    "grad_16.duplicated(subset=\"DNI\").sum()"
   ]
  },
  {
   "cell_type": "markdown",
   "metadata": {},
   "source": [
    "### CD"
   ]
  },
  {
   "cell_type": "code",
   "execution_count": 166,
   "metadata": {
    "collapsed": false
   },
   "outputs": [
    {
     "data": {
      "text/plain": [
       "18"
      ]
     },
     "execution_count": 166,
     "metadata": {},
     "output_type": "execute_result"
    }
   ],
   "source": [
    "cd_17.duplicated(subset=\"DNI\").sum()"
   ]
  },
  {
   "cell_type": "code",
   "execution_count": 167,
   "metadata": {
    "collapsed": false
   },
   "outputs": [
    {
     "data": {
      "text/html": [
       "<div>\n",
       "<table border=\"1\" class=\"dataframe\">\n",
       "  <thead>\n",
       "    <tr style=\"text-align: right;\">\n",
       "      <th></th>\n",
       "      <th>N° ORDEN</th>\n",
       "      <th>NOMBRE</th>\n",
       "      <th>Padrón</th>\n",
       "      <th>DNI</th>\n",
       "    </tr>\n",
       "  </thead>\n",
       "  <tbody>\n",
       "    <tr>\n",
       "      <th>265</th>\n",
       "      <td>266</td>\n",
       "      <td>ALVAREZ WINDEY, JUAN SEBASTIÁN</td>\n",
       "      <td>95242</td>\n",
       "      <td>36755372</td>\n",
       "    </tr>\n",
       "    <tr>\n",
       "      <th>266</th>\n",
       "      <td>267</td>\n",
       "      <td>ALVAREZ WINDEY, JUAN SEBASTIÁN</td>\n",
       "      <td>95242</td>\n",
       "      <td>36755372</td>\n",
       "    </tr>\n",
       "    <tr>\n",
       "      <th>1024</th>\n",
       "      <td>1025</td>\n",
       "      <td>BORDONI, LUCAS ENRIQUE</td>\n",
       "      <td>96033</td>\n",
       "      <td>35425609</td>\n",
       "    </tr>\n",
       "    <tr>\n",
       "      <th>1025</th>\n",
       "      <td>1026</td>\n",
       "      <td>BORDONI, LUCAS ENRIQUE</td>\n",
       "      <td>96033</td>\n",
       "      <td>35425609</td>\n",
       "    </tr>\n",
       "    <tr>\n",
       "      <th>1259</th>\n",
       "      <td>1260</td>\n",
       "      <td>CABRERA, MARÍA FLORENCIA</td>\n",
       "      <td>97864</td>\n",
       "      <td>39322189</td>\n",
       "    </tr>\n",
       "    <tr>\n",
       "      <th>1260</th>\n",
       "      <td>1261</td>\n",
       "      <td>CABRERA, MARÍA FLORENCIA</td>\n",
       "      <td>97864</td>\n",
       "      <td>39322189</td>\n",
       "    </tr>\n",
       "    <tr>\n",
       "      <th>1957</th>\n",
       "      <td>1958</td>\n",
       "      <td>CONTINANZA, NICOLAS</td>\n",
       "      <td>97576</td>\n",
       "      <td>38616453</td>\n",
       "    </tr>\n",
       "    <tr>\n",
       "      <th>1958</th>\n",
       "      <td>1959</td>\n",
       "      <td>CONTINANZA, NICOLAS</td>\n",
       "      <td>97576</td>\n",
       "      <td>38616453</td>\n",
       "    </tr>\n",
       "    <tr>\n",
       "      <th>2167</th>\n",
       "      <td>2168</td>\n",
       "      <td>DAHAB, MOISES MICAEL</td>\n",
       "      <td>97520</td>\n",
       "      <td>38995013</td>\n",
       "    </tr>\n",
       "    <tr>\n",
       "      <th>2168</th>\n",
       "      <td>2169</td>\n",
       "      <td>DAHAB, MOISES MICAEL</td>\n",
       "      <td>97520</td>\n",
       "      <td>38995013</td>\n",
       "    </tr>\n",
       "    <tr>\n",
       "      <th>2960</th>\n",
       "      <td>2961</td>\n",
       "      <td>FERREIRO CEDONES, JAZMIN SOFIA</td>\n",
       "      <td>97266</td>\n",
       "      <td>38536227</td>\n",
       "    </tr>\n",
       "    <tr>\n",
       "      <th>2961</th>\n",
       "      <td>2962</td>\n",
       "      <td>FERREIRO CEDONES, JAZMIN SOFIA</td>\n",
       "      <td>97266</td>\n",
       "      <td>38536227</td>\n",
       "    </tr>\n",
       "    <tr>\n",
       "      <th>4030</th>\n",
       "      <td>4031</td>\n",
       "      <td>HOLERT, IGNACIO</td>\n",
       "      <td>98393</td>\n",
       "      <td>39469845</td>\n",
       "    </tr>\n",
       "    <tr>\n",
       "      <th>4031</th>\n",
       "      <td>4032</td>\n",
       "      <td>HOLERT, IGNACIO</td>\n",
       "      <td>98393</td>\n",
       "      <td>39469845</td>\n",
       "    </tr>\n",
       "    <tr>\n",
       "      <th>4175</th>\n",
       "      <td>4176</td>\n",
       "      <td>IVALDI LEVRINO, FRANCO</td>\n",
       "      <td>94175</td>\n",
       "      <td>36728851</td>\n",
       "    </tr>\n",
       "    <tr>\n",
       "      <th>4176</th>\n",
       "      <td>4177</td>\n",
       "      <td>IVALDI LEVRINO, FRANCO</td>\n",
       "      <td>94175</td>\n",
       "      <td>36728851</td>\n",
       "    </tr>\n",
       "    <tr>\n",
       "      <th>4201</th>\n",
       "      <td>4202</td>\n",
       "      <td>JANNELLO, MATIAS</td>\n",
       "      <td>96479</td>\n",
       "      <td>37431588</td>\n",
       "    </tr>\n",
       "    <tr>\n",
       "      <th>4202</th>\n",
       "      <td>4203</td>\n",
       "      <td>JANNELLO, MATIAS</td>\n",
       "      <td>96479</td>\n",
       "      <td>37431588</td>\n",
       "    </tr>\n",
       "    <tr>\n",
       "      <th>4509</th>\n",
       "      <td>4510</td>\n",
       "      <td>LEDESMA, DIEGO ARMANDO</td>\n",
       "      <td>94610</td>\n",
       "      <td>34338817</td>\n",
       "    </tr>\n",
       "    <tr>\n",
       "      <th>4510</th>\n",
       "      <td>4511</td>\n",
       "      <td>LEDESMA, DIEGO ARMANDO</td>\n",
       "      <td>94610</td>\n",
       "      <td>34338817</td>\n",
       "    </tr>\n",
       "    <tr>\n",
       "      <th>4755</th>\n",
       "      <td>4756</td>\n",
       "      <td>LOYARTE, IVAN</td>\n",
       "      <td>97213</td>\n",
       "      <td>37170681</td>\n",
       "    </tr>\n",
       "    <tr>\n",
       "      <th>4756</th>\n",
       "      <td>4757</td>\n",
       "      <td>LOYARTE, IVAN</td>\n",
       "      <td>97213</td>\n",
       "      <td>37170681</td>\n",
       "    </tr>\n",
       "    <tr>\n",
       "      <th>4813</th>\n",
       "      <td>4814</td>\n",
       "      <td>LUNGWITZ, KLAUS</td>\n",
       "      <td>96416</td>\n",
       "      <td>38010229</td>\n",
       "    </tr>\n",
       "    <tr>\n",
       "      <th>4814</th>\n",
       "      <td>4815</td>\n",
       "      <td>LUNGWITZ, KLAUS</td>\n",
       "      <td>96416</td>\n",
       "      <td>38010229</td>\n",
       "    </tr>\n",
       "    <tr>\n",
       "      <th>5765</th>\n",
       "      <td>5766</td>\n",
       "      <td>OBST DEMAESTRI, HERMAN</td>\n",
       "      <td>97884</td>\n",
       "      <td>39757329</td>\n",
       "    </tr>\n",
       "    <tr>\n",
       "      <th>5766</th>\n",
       "      <td>5767</td>\n",
       "      <td>OBST DEMAESTRI, HERMAN</td>\n",
       "      <td>97884</td>\n",
       "      <td>39757329</td>\n",
       "    </tr>\n",
       "    <tr>\n",
       "      <th>6166</th>\n",
       "      <td>6167</td>\n",
       "      <td>PEREZ BINNEWIES, GUADALUPE AMIRA</td>\n",
       "      <td>96378</td>\n",
       "      <td>37280933</td>\n",
       "    </tr>\n",
       "    <tr>\n",
       "      <th>6167</th>\n",
       "      <td>6168</td>\n",
       "      <td>PEREZ BINNEWIES, GUADALUPE AMIRA</td>\n",
       "      <td>96378</td>\n",
       "      <td>37280933</td>\n",
       "    </tr>\n",
       "    <tr>\n",
       "      <th>6239</th>\n",
       "      <td>6240</td>\n",
       "      <td>PESADO, LUCÍA</td>\n",
       "      <td>98275</td>\n",
       "      <td>39245042</td>\n",
       "    </tr>\n",
       "    <tr>\n",
       "      <th>6240</th>\n",
       "      <td>6241</td>\n",
       "      <td>PESADO, LUCÍA</td>\n",
       "      <td>98275</td>\n",
       "      <td>39245042</td>\n",
       "    </tr>\n",
       "    <tr>\n",
       "      <th>6318</th>\n",
       "      <td>6319</td>\n",
       "      <td>PINEDA MONTILLA, ELVIS JANED</td>\n",
       "      <td>100452</td>\n",
       "      <td>95521916</td>\n",
       "    </tr>\n",
       "    <tr>\n",
       "      <th>6319</th>\n",
       "      <td>6320</td>\n",
       "      <td>PINEDA MONTILLA, ELVIS JANED</td>\n",
       "      <td>100452</td>\n",
       "      <td>95521916</td>\n",
       "    </tr>\n",
       "    <tr>\n",
       "      <th>6780</th>\n",
       "      <td>6781</td>\n",
       "      <td>RIEMER, ALAN</td>\n",
       "      <td>92767</td>\n",
       "      <td>36601118</td>\n",
       "    </tr>\n",
       "    <tr>\n",
       "      <th>6781</th>\n",
       "      <td>6782</td>\n",
       "      <td>RIEMER, ALAN</td>\n",
       "      <td>92767</td>\n",
       "      <td>36601118</td>\n",
       "    </tr>\n",
       "    <tr>\n",
       "      <th>7143</th>\n",
       "      <td>7144</td>\n",
       "      <td>RUDERMAN, GABRIEL</td>\n",
       "      <td>98253</td>\n",
       "      <td>39459056</td>\n",
       "    </tr>\n",
       "    <tr>\n",
       "      <th>7144</th>\n",
       "      <td>7145</td>\n",
       "      <td>RUDERMAN, GABRIEL</td>\n",
       "      <td>98253</td>\n",
       "      <td>39459056</td>\n",
       "    </tr>\n",
       "  </tbody>\n",
       "</table>\n",
       "</div>"
      ],
      "text/plain": [
       "      N° ORDEN                            NOMBRE  Padrón       DNI\n",
       "265        266    ALVAREZ WINDEY, JUAN SEBASTIÁN   95242  36755372\n",
       "266        267    ALVAREZ WINDEY, JUAN SEBASTIÁN   95242  36755372\n",
       "1024      1025            BORDONI, LUCAS ENRIQUE   96033  35425609\n",
       "1025      1026            BORDONI, LUCAS ENRIQUE   96033  35425609\n",
       "1259      1260          CABRERA, MARÍA FLORENCIA   97864  39322189\n",
       "1260      1261          CABRERA, MARÍA FLORENCIA   97864  39322189\n",
       "1957      1958               CONTINANZA, NICOLAS   97576  38616453\n",
       "1958      1959               CONTINANZA, NICOLAS   97576  38616453\n",
       "2167      2168              DAHAB, MOISES MICAEL   97520  38995013\n",
       "2168      2169              DAHAB, MOISES MICAEL   97520  38995013\n",
       "2960      2961    FERREIRO CEDONES, JAZMIN SOFIA   97266  38536227\n",
       "2961      2962    FERREIRO CEDONES, JAZMIN SOFIA   97266  38536227\n",
       "4030      4031                   HOLERT, IGNACIO   98393  39469845\n",
       "4031      4032                   HOLERT, IGNACIO   98393  39469845\n",
       "4175      4176            IVALDI LEVRINO, FRANCO   94175  36728851\n",
       "4176      4177            IVALDI LEVRINO, FRANCO   94175  36728851\n",
       "4201      4202                  JANNELLO, MATIAS   96479  37431588\n",
       "4202      4203                  JANNELLO, MATIAS   96479  37431588\n",
       "4509      4510            LEDESMA, DIEGO ARMANDO   94610  34338817\n",
       "4510      4511            LEDESMA, DIEGO ARMANDO   94610  34338817\n",
       "4755      4756                     LOYARTE, IVAN   97213  37170681\n",
       "4756      4757                     LOYARTE, IVAN   97213  37170681\n",
       "4813      4814                   LUNGWITZ, KLAUS   96416  38010229\n",
       "4814      4815                   LUNGWITZ, KLAUS   96416  38010229\n",
       "5765      5766            OBST DEMAESTRI, HERMAN   97884  39757329\n",
       "5766      5767            OBST DEMAESTRI, HERMAN   97884  39757329\n",
       "6166      6167  PEREZ BINNEWIES, GUADALUPE AMIRA   96378  37280933\n",
       "6167      6168  PEREZ BINNEWIES, GUADALUPE AMIRA   96378  37280933\n",
       "6239      6240                     PESADO, LUCÍA   98275  39245042\n",
       "6240      6241                     PESADO, LUCÍA   98275  39245042\n",
       "6318      6319      PINEDA MONTILLA, ELVIS JANED  100452  95521916\n",
       "6319      6320      PINEDA MONTILLA, ELVIS JANED  100452  95521916\n",
       "6780      6781                      RIEMER, ALAN   92767  36601118\n",
       "6781      6782                      RIEMER, ALAN   92767  36601118\n",
       "7143      7144                 RUDERMAN, GABRIEL   98253  39459056\n",
       "7144      7145                 RUDERMAN, GABRIEL   98253  39459056"
      ]
     },
     "execution_count": 167,
     "metadata": {},
     "output_type": "execute_result"
    }
   ],
   "source": [
    "cd_17[cd_17.duplicated(subset=\"DNI\", keep=False)]"
   ]
  },
  {
   "cell_type": "code",
   "execution_count": 168,
   "metadata": {
    "collapsed": false
   },
   "outputs": [
    {
     "data": {
      "text/plain": [
       "8722"
      ]
     },
     "execution_count": 168,
     "metadata": {},
     "output_type": "execute_result"
    }
   ],
   "source": [
    "len(cd_17)"
   ]
  },
  {
   "cell_type": "code",
   "execution_count": 169,
   "metadata": {
    "collapsed": true
   },
   "outputs": [],
   "source": [
    "cd_17 = cd_17[~cd_17.duplicated(subset=\"DNI\", keep=\"first\")]"
   ]
  },
  {
   "cell_type": "code",
   "execution_count": 170,
   "metadata": {
    "collapsed": false
   },
   "outputs": [
    {
     "data": {
      "text/plain": [
       "8704"
      ]
     },
     "execution_count": 170,
     "metadata": {},
     "output_type": "execute_result"
    }
   ],
   "source": [
    "len(cd_17)"
   ]
  },
  {
   "cell_type": "markdown",
   "metadata": {},
   "source": [
    "### CEI"
   ]
  },
  {
   "cell_type": "code",
   "execution_count": 171,
   "metadata": {
    "collapsed": false
   },
   "outputs": [
    {
     "data": {
      "text/plain": [
       "7"
      ]
     },
     "execution_count": 171,
     "metadata": {},
     "output_type": "execute_result"
    }
   ],
   "source": [
    "cei_16.duplicated(subset=\"DNI\").sum()"
   ]
  },
  {
   "cell_type": "code",
   "execution_count": 172,
   "metadata": {
    "collapsed": false,
    "scrolled": false
   },
   "outputs": [
    {
     "data": {
      "text/html": [
       "<div>\n",
       "<table border=\"1\" class=\"dataframe\">\n",
       "  <thead>\n",
       "    <tr style=\"text-align: right;\">\n",
       "      <th></th>\n",
       "      <th>N° ORDEN</th>\n",
       "      <th>NOMBRE</th>\n",
       "      <th>Padrón</th>\n",
       "      <th>DNI</th>\n",
       "    </tr>\n",
       "  </thead>\n",
       "  <tbody>\n",
       "    <tr>\n",
       "      <th>673</th>\n",
       "      <td>674</td>\n",
       "      <td>ARREJIN, MAURO ALEXIS</td>\n",
       "      <td>97555</td>\n",
       "      <td>35266598</td>\n",
       "    </tr>\n",
       "    <tr>\n",
       "      <th>674</th>\n",
       "      <td>675</td>\n",
       "      <td>ARREJIN, MAURO ALEXIS</td>\n",
       "      <td>97555</td>\n",
       "      <td>35266598</td>\n",
       "    </tr>\n",
       "    <tr>\n",
       "      <th>715</th>\n",
       "      <td>716</td>\n",
       "      <td>ASTUDILLO, JUAN MARCOS</td>\n",
       "      <td>98118</td>\n",
       "      <td>38426324</td>\n",
       "    </tr>\n",
       "    <tr>\n",
       "      <th>716</th>\n",
       "      <td>717</td>\n",
       "      <td>ASTUDILLO, JUAN MARCOS</td>\n",
       "      <td>98118</td>\n",
       "      <td>38426324</td>\n",
       "    </tr>\n",
       "    <tr>\n",
       "      <th>2278</th>\n",
       "      <td>2279</td>\n",
       "      <td>CAUHEPE, LUCAS</td>\n",
       "      <td>98354</td>\n",
       "      <td>39415261</td>\n",
       "    </tr>\n",
       "    <tr>\n",
       "      <th>2279</th>\n",
       "      <td>2280</td>\n",
       "      <td>CAUHEPE, LUCAS</td>\n",
       "      <td>98354</td>\n",
       "      <td>39415261</td>\n",
       "    </tr>\n",
       "    <tr>\n",
       "      <th>2838</th>\n",
       "      <td>2839</td>\n",
       "      <td>CRAVERO, JUAN PABLO</td>\n",
       "      <td>98379</td>\n",
       "      <td>38305305</td>\n",
       "    </tr>\n",
       "    <tr>\n",
       "      <th>2839</th>\n",
       "      <td>2840</td>\n",
       "      <td>CRAVERO, JUAN PABLO</td>\n",
       "      <td>98379</td>\n",
       "      <td>38305305</td>\n",
       "    </tr>\n",
       "    <tr>\n",
       "      <th>3976</th>\n",
       "      <td>3977</td>\n",
       "      <td>FERNÁNDEZ SÁNCHEZ, MARTÍN NICOLÁS</td>\n",
       "      <td>98410</td>\n",
       "      <td>39466298</td>\n",
       "    </tr>\n",
       "    <tr>\n",
       "      <th>3977</th>\n",
       "      <td>3978</td>\n",
       "      <td>FERNÁNDEZ SÁNCHEZ, MARTÍN NICOLÁS</td>\n",
       "      <td>98410</td>\n",
       "      <td>39466298</td>\n",
       "    </tr>\n",
       "    <tr>\n",
       "      <th>7738</th>\n",
       "      <td>7739</td>\n",
       "      <td>NISCA, MARIA ABRIL</td>\n",
       "      <td>97736</td>\n",
       "      <td>38939419</td>\n",
       "    </tr>\n",
       "    <tr>\n",
       "      <th>7739</th>\n",
       "      <td>7740</td>\n",
       "      <td>NISCA, MARIA ABRIL</td>\n",
       "      <td>97736</td>\n",
       "      <td>38939419</td>\n",
       "    </tr>\n",
       "    <tr>\n",
       "      <th>8211</th>\n",
       "      <td>8212</td>\n",
       "      <td>PAZOS, MATIAS NICOLAS</td>\n",
       "      <td>97657</td>\n",
       "      <td>38617131</td>\n",
       "    </tr>\n",
       "    <tr>\n",
       "      <th>8212</th>\n",
       "      <td>8213</td>\n",
       "      <td>PAZOS, MATIAS NICOLAS</td>\n",
       "      <td>97657</td>\n",
       "      <td>38617131</td>\n",
       "    </tr>\n",
       "  </tbody>\n",
       "</table>\n",
       "</div>"
      ],
      "text/plain": [
       "      N° ORDEN                             NOMBRE Padrón       DNI\n",
       "673        674              ARREJIN, MAURO ALEXIS  97555  35266598\n",
       "674        675              ARREJIN, MAURO ALEXIS  97555  35266598\n",
       "715        716             ASTUDILLO, JUAN MARCOS  98118  38426324\n",
       "716        717             ASTUDILLO, JUAN MARCOS  98118  38426324\n",
       "2278      2279                     CAUHEPE, LUCAS  98354  39415261\n",
       "2279      2280                     CAUHEPE, LUCAS  98354  39415261\n",
       "2838      2839                CRAVERO, JUAN PABLO  98379  38305305\n",
       "2839      2840                CRAVERO, JUAN PABLO  98379  38305305\n",
       "3976      3977  FERNÁNDEZ SÁNCHEZ, MARTÍN NICOLÁS  98410  39466298\n",
       "3977      3978  FERNÁNDEZ SÁNCHEZ, MARTÍN NICOLÁS  98410  39466298\n",
       "7738      7739                 NISCA, MARIA ABRIL  97736  38939419\n",
       "7739      7740                 NISCA, MARIA ABRIL  97736  38939419\n",
       "8211      8212              PAZOS, MATIAS NICOLAS  97657  38617131\n",
       "8212      8213              PAZOS, MATIAS NICOLAS  97657  38617131"
      ]
     },
     "execution_count": 172,
     "metadata": {},
     "output_type": "execute_result"
    }
   ],
   "source": [
    "cei_16[cei_16.duplicated(subset=\"DNI\", keep=False)]"
   ]
  },
  {
   "cell_type": "markdown",
   "metadata": {},
   "source": [
    "En el padrón del CEI del 2016 hay 7 duplicados. En los otros padrones no. Los saco acá mismo así hacemos las cuentas más fácil."
   ]
  },
  {
   "cell_type": "code",
   "execution_count": 173,
   "metadata": {
    "collapsed": false
   },
   "outputs": [
    {
     "data": {
      "text/plain": [
       "11793"
      ]
     },
     "execution_count": 173,
     "metadata": {},
     "output_type": "execute_result"
    }
   ],
   "source": [
    "len(cei_16)"
   ]
  },
  {
   "cell_type": "code",
   "execution_count": 174,
   "metadata": {
    "collapsed": false
   },
   "outputs": [],
   "source": [
    "cei_16 = cei_16[~cei_16.duplicated(subset=\"DNI\", keep=\"first\")]"
   ]
  },
  {
   "cell_type": "code",
   "execution_count": 175,
   "metadata": {
    "collapsed": false
   },
   "outputs": [
    {
     "data": {
      "text/plain": [
       "11786"
      ]
     },
     "execution_count": 175,
     "metadata": {},
     "output_type": "execute_result"
    }
   ],
   "source": [
    "len(cei_16)"
   ]
  },
  {
   "cell_type": "markdown",
   "metadata": {},
   "source": [
    "Como corresponde, hay 7 menos, que son los duplicados."
   ]
  },
  {
   "cell_type": "markdown",
   "metadata": {},
   "source": [
    "## Armado de padrón\n",
    "### Agregado de CD 2017\n",
    "Agregamos los del padrón de CD de 2017 a los del CEI 2016. "
   ]
  },
  {
   "cell_type": "code",
   "execution_count": 176,
   "metadata": {
    "collapsed": true
   },
   "outputs": [],
   "source": [
    "cei_17 = cei_16.append(cd_17)"
   ]
  },
  {
   "cell_type": "code",
   "execution_count": 177,
   "metadata": {
    "collapsed": false
   },
   "outputs": [
    {
     "data": {
      "text/plain": [
       "N° ORDEN    0\n",
       "NOMBRE      0\n",
       "Padrón      0\n",
       "DNI         0\n",
       "dtype: int64"
      ]
     },
     "execution_count": 177,
     "metadata": {},
     "output_type": "execute_result"
    }
   ],
   "source": [
    "cei_17.isnull().sum()"
   ]
  },
  {
   "cell_type": "markdown",
   "metadata": {},
   "source": [
    "Todo en orden. Vamos a ver los duplicados."
   ]
  },
  {
   "cell_type": "code",
   "execution_count": 178,
   "metadata": {
    "collapsed": false
   },
   "outputs": [
    {
     "data": {
      "text/html": [
       "<div>\n",
       "<table border=\"1\" class=\"dataframe\">\n",
       "  <thead>\n",
       "    <tr style=\"text-align: right;\">\n",
       "      <th></th>\n",
       "      <th>N° ORDEN</th>\n",
       "      <th>NOMBRE</th>\n",
       "      <th>Padrón</th>\n",
       "      <th>DNI</th>\n",
       "    </tr>\n",
       "  </thead>\n",
       "  <tbody>\n",
       "    <tr>\n",
       "      <th>6723</th>\n",
       "      <td>6724</td>\n",
       "      <td>RESIO, LUIS BENITO</td>\n",
       "      <td>33024</td>\n",
       "      <td>10390436</td>\n",
       "    </tr>\n",
       "    <tr>\n",
       "      <th>9088</th>\n",
       "      <td>9089</td>\n",
       "      <td>RESIO, LUIS BENITO</td>\n",
       "      <td>33024</td>\n",
       "      <td>10390436</td>\n",
       "    </tr>\n",
       "    <tr>\n",
       "      <th>5572</th>\n",
       "      <td>5573</td>\n",
       "      <td>IBARRA, SARA MABEL</td>\n",
       "      <td>64135</td>\n",
       "      <td>10972945</td>\n",
       "    </tr>\n",
       "    <tr>\n",
       "      <th>4084</th>\n",
       "      <td>4085</td>\n",
       "      <td>IBARRA, SARA MABEL</td>\n",
       "      <td>64135</td>\n",
       "      <td>10972945</td>\n",
       "    </tr>\n",
       "    <tr>\n",
       "      <th>7393</th>\n",
       "      <td>7394</td>\n",
       "      <td>MONSALVE, GUSTAVO ADOLFO</td>\n",
       "      <td>36561</td>\n",
       "      <td>11122336</td>\n",
       "    </tr>\n",
       "    <tr>\n",
       "      <th>5461</th>\n",
       "      <td>5462</td>\n",
       "      <td>MONSALVE, GUSTAVO ADOLFO</td>\n",
       "      <td>36561</td>\n",
       "      <td>11122336</td>\n",
       "    </tr>\n",
       "    <tr>\n",
       "      <th>9435</th>\n",
       "      <td>9436</td>\n",
       "      <td>ROJAS, MARCELO ANDRES</td>\n",
       "      <td>38601</td>\n",
       "      <td>11802981</td>\n",
       "    </tr>\n",
       "    <tr>\n",
       "      <th>6979</th>\n",
       "      <td>6980</td>\n",
       "      <td>ROJAS, MARCELO ANDRES</td>\n",
       "      <td>38601</td>\n",
       "      <td>11802981</td>\n",
       "    </tr>\n",
       "    <tr>\n",
       "      <th>5444</th>\n",
       "      <td>5445</td>\n",
       "      <td>MOLINERO, GUSTAVO EDGARDO</td>\n",
       "      <td>39437</td>\n",
       "      <td>11926253</td>\n",
       "    </tr>\n",
       "    <tr>\n",
       "      <th>7369</th>\n",
       "      <td>7370</td>\n",
       "      <td>MOLINERO, GUSTAVO EDGARDO</td>\n",
       "      <td>39437</td>\n",
       "      <td>11926253</td>\n",
       "    </tr>\n",
       "    <tr>\n",
       "      <th>7585</th>\n",
       "      <td>7586</td>\n",
       "      <td>SERVIDIO, FRANCISCO LUIS</td>\n",
       "      <td>42107</td>\n",
       "      <td>12088273</td>\n",
       "    </tr>\n",
       "    <tr>\n",
       "      <th>10248</th>\n",
       "      <td>10249</td>\n",
       "      <td>SERVIDIO, FRANCISCO LUIS</td>\n",
       "      <td>42107</td>\n",
       "      <td>12088273</td>\n",
       "    </tr>\n",
       "    <tr>\n",
       "      <th>937</th>\n",
       "      <td>938</td>\n",
       "      <td>BARRAL, JORGE NESTOR</td>\n",
       "      <td>43655</td>\n",
       "      <td>12865402</td>\n",
       "    </tr>\n",
       "    <tr>\n",
       "      <th>696</th>\n",
       "      <td>697</td>\n",
       "      <td>BARRAL, JORGE NESTOR</td>\n",
       "      <td>43655</td>\n",
       "      <td>12865402</td>\n",
       "    </tr>\n",
       "    <tr>\n",
       "      <th>6872</th>\n",
       "      <td>6873</td>\n",
       "      <td>RODONI, MABEL SUSANA</td>\n",
       "      <td>48332</td>\n",
       "      <td>12945878</td>\n",
       "    </tr>\n",
       "    <tr>\n",
       "      <th>9282</th>\n",
       "      <td>9283</td>\n",
       "      <td>RODONI, MABEL SUSANA</td>\n",
       "      <td>48332</td>\n",
       "      <td>12945878</td>\n",
       "    </tr>\n",
       "    <tr>\n",
       "      <th>7163</th>\n",
       "      <td>7164</td>\n",
       "      <td>MENDEZ, RAUL RICARDO</td>\n",
       "      <td>51555</td>\n",
       "      <td>13621375</td>\n",
       "    </tr>\n",
       "    <tr>\n",
       "      <th>5297</th>\n",
       "      <td>5298</td>\n",
       "      <td>MENDEZ, RAUL RICARDO</td>\n",
       "      <td>51555</td>\n",
       "      <td>13621375</td>\n",
       "    </tr>\n",
       "    <tr>\n",
       "      <th>7794</th>\n",
       "      <td>7795</td>\n",
       "      <td>STEKELORUM, CARLOS ALBERTO</td>\n",
       "      <td>52778</td>\n",
       "      <td>13852547</td>\n",
       "    </tr>\n",
       "    <tr>\n",
       "      <th>10543</th>\n",
       "      <td>10544</td>\n",
       "      <td>STEKELORUM, CARLOS ALBERTO</td>\n",
       "      <td>52778</td>\n",
       "      <td>13852547</td>\n",
       "    </tr>\n",
       "    <tr>\n",
       "      <th>639</th>\n",
       "      <td>640</td>\n",
       "      <td>ARILLO, LUIS ANIBAL</td>\n",
       "      <td>56078</td>\n",
       "      <td>14391762</td>\n",
       "    </tr>\n",
       "    <tr>\n",
       "      <th>481</th>\n",
       "      <td>482</td>\n",
       "      <td>ARILLO, LUIS ANIBAL</td>\n",
       "      <td>56078</td>\n",
       "      <td>14391762</td>\n",
       "    </tr>\n",
       "    <tr>\n",
       "      <th>8093</th>\n",
       "      <td>8094</td>\n",
       "      <td>PAOLANTONIO, CARLOS DARIO</td>\n",
       "      <td>51492</td>\n",
       "      <td>14768695</td>\n",
       "    </tr>\n",
       "    <tr>\n",
       "      <th>5973</th>\n",
       "      <td>5974</td>\n",
       "      <td>PAOLANTONIO, CARLOS DARIO</td>\n",
       "      <td>51492</td>\n",
       "      <td>14768695</td>\n",
       "    </tr>\n",
       "    <tr>\n",
       "      <th>5870</th>\n",
       "      <td>5871</td>\n",
       "      <td>KNAPP, FERNANDA ALBA</td>\n",
       "      <td>54428</td>\n",
       "      <td>16057084</td>\n",
       "    </tr>\n",
       "    <tr>\n",
       "      <th>4312</th>\n",
       "      <td>4313</td>\n",
       "      <td>KNAPP, FERNANDA ALBA</td>\n",
       "      <td>54428</td>\n",
       "      <td>16057084</td>\n",
       "    </tr>\n",
       "    <tr>\n",
       "      <th>5936</th>\n",
       "      <td>5937</td>\n",
       "      <td>PAILOS, EDGARDO GUSTAVO</td>\n",
       "      <td>69411</td>\n",
       "      <td>16266501</td>\n",
       "    </tr>\n",
       "    <tr>\n",
       "      <th>8041</th>\n",
       "      <td>8042</td>\n",
       "      <td>PAILOS, EDGARDO GUSTAVO</td>\n",
       "      <td>69411</td>\n",
       "      <td>16266501</td>\n",
       "    </tr>\n",
       "    <tr>\n",
       "      <th>1747</th>\n",
       "      <td>1748</td>\n",
       "      <td>CHAMI, FABIANA MARCELA</td>\n",
       "      <td>54437</td>\n",
       "      <td>16288413</td>\n",
       "    </tr>\n",
       "    <tr>\n",
       "      <th>2396</th>\n",
       "      <td>2397</td>\n",
       "      <td>CHAMI, FABIANA MARCELA</td>\n",
       "      <td>54437</td>\n",
       "      <td>16288413</td>\n",
       "    </tr>\n",
       "    <tr>\n",
       "      <th>...</th>\n",
       "      <td>...</td>\n",
       "      <td>...</td>\n",
       "      <td>...</td>\n",
       "      <td>...</td>\n",
       "    </tr>\n",
       "    <tr>\n",
       "      <th>2941</th>\n",
       "      <td>2942</td>\n",
       "      <td>CURBELO FERNANDEZ, ALEJANDRA</td>\n",
       "      <td>99286</td>\n",
       "      <td>95464402</td>\n",
       "    </tr>\n",
       "    <tr>\n",
       "      <th>2122</th>\n",
       "      <td>2123</td>\n",
       "      <td>CURBELO FERNANDEZ, ALEJANDRA</td>\n",
       "      <td>99286</td>\n",
       "      <td>95464402</td>\n",
       "    </tr>\n",
       "    <tr>\n",
       "      <th>3973</th>\n",
       "      <td>3974</td>\n",
       "      <td>HERNANDEZ MEZA, JOHN FELIPE</td>\n",
       "      <td>99568</td>\n",
       "      <td>95466366</td>\n",
       "    </tr>\n",
       "    <tr>\n",
       "      <th>5425</th>\n",
       "      <td>5426</td>\n",
       "      <td>HERNANDEZ MEZA, JOHN FELIPE</td>\n",
       "      <td>99568</td>\n",
       "      <td>95466366</td>\n",
       "    </tr>\n",
       "    <tr>\n",
       "      <th>1929</th>\n",
       "      <td>1930</td>\n",
       "      <td>CAÑON BELLO, CRISTIAN FELIPE</td>\n",
       "      <td>100162</td>\n",
       "      <td>95466824</td>\n",
       "    </tr>\n",
       "    <tr>\n",
       "      <th>1418</th>\n",
       "      <td>1419</td>\n",
       "      <td>CAÑON BELLO, CRISTIAN FELIPE</td>\n",
       "      <td>100162</td>\n",
       "      <td>95466824</td>\n",
       "    </tr>\n",
       "    <tr>\n",
       "      <th>6557</th>\n",
       "      <td>6558</td>\n",
       "      <td>QUIÑONES IZARRA, HECTOR REINALDO</td>\n",
       "      <td>99934</td>\n",
       "      <td>95469713</td>\n",
       "    </tr>\n",
       "    <tr>\n",
       "      <th>8870</th>\n",
       "      <td>8871</td>\n",
       "      <td>QUIÑONES IZARRA, HECTOR REINALDO</td>\n",
       "      <td>99934</td>\n",
       "      <td>95469713</td>\n",
       "    </tr>\n",
       "    <tr>\n",
       "      <th>2592</th>\n",
       "      <td>2593</td>\n",
       "      <td>COCA ABAD, ANTONY LEONARDO</td>\n",
       "      <td>100335</td>\n",
       "      <td>95479131</td>\n",
       "    </tr>\n",
       "    <tr>\n",
       "      <th>1872</th>\n",
       "      <td>1873</td>\n",
       "      <td>COCA ABAD, ANTONY LEONARDO</td>\n",
       "      <td>100335</td>\n",
       "      <td>95479131</td>\n",
       "    </tr>\n",
       "    <tr>\n",
       "      <th>8084</th>\n",
       "      <td>8085</td>\n",
       "      <td>PANOSO RUIZ, REINALDO</td>\n",
       "      <td>100147</td>\n",
       "      <td>95494549</td>\n",
       "    </tr>\n",
       "    <tr>\n",
       "      <th>5970</th>\n",
       "      <td>5971</td>\n",
       "      <td>PANOSO RUIZ, REINALDO</td>\n",
       "      <td>100147</td>\n",
       "      <td>95494549</td>\n",
       "    </tr>\n",
       "    <tr>\n",
       "      <th>6261</th>\n",
       "      <td>6262</td>\n",
       "      <td>PETROVSKIY, GEORGY</td>\n",
       "      <td>100084</td>\n",
       "      <td>95495017</td>\n",
       "    </tr>\n",
       "    <tr>\n",
       "      <th>8481</th>\n",
       "      <td>8482</td>\n",
       "      <td>PETROVSKIY, GEORGY</td>\n",
       "      <td>100084</td>\n",
       "      <td>95495017</td>\n",
       "    </tr>\n",
       "    <tr>\n",
       "      <th>1692</th>\n",
       "      <td>1693</td>\n",
       "      <td>CCARAHUANCO TOSCANO, LUIS MIGUEL</td>\n",
       "      <td>100098</td>\n",
       "      <td>95498722</td>\n",
       "    </tr>\n",
       "    <tr>\n",
       "      <th>2309</th>\n",
       "      <td>2310</td>\n",
       "      <td>CCARAHUANCO TOSCANO, LUIS MIGUEL</td>\n",
       "      <td>100098</td>\n",
       "      <td>95498722</td>\n",
       "    </tr>\n",
       "    <tr>\n",
       "      <th>2386</th>\n",
       "      <td>2387</td>\n",
       "      <td>CHACIN AMARAL, MARCO TULIO</td>\n",
       "      <td>99749</td>\n",
       "      <td>95502883</td>\n",
       "    </tr>\n",
       "    <tr>\n",
       "      <th>1739</th>\n",
       "      <td>1740</td>\n",
       "      <td>CHACIN AMARAL, MARCO TULIO</td>\n",
       "      <td>99749</td>\n",
       "      <td>95502883</td>\n",
       "    </tr>\n",
       "    <tr>\n",
       "      <th>6533</th>\n",
       "      <td>6534</td>\n",
       "      <td>QUEIROZ BEZERRA, JOAO CARLOS</td>\n",
       "      <td>100310</td>\n",
       "      <td>95512258</td>\n",
       "    </tr>\n",
       "    <tr>\n",
       "      <th>8840</th>\n",
       "      <td>8841</td>\n",
       "      <td>QUEIROZ BEZERRA, JOAO CARLOS</td>\n",
       "      <td>100310</td>\n",
       "      <td>95512258</td>\n",
       "    </tr>\n",
       "    <tr>\n",
       "      <th>9777</th>\n",
       "      <td>9778</td>\n",
       "      <td>SALAZAR BARRIOS, ADRIAN MANUEL</td>\n",
       "      <td>100476</td>\n",
       "      <td>95513966</td>\n",
       "    </tr>\n",
       "    <tr>\n",
       "      <th>7241</th>\n",
       "      <td>7242</td>\n",
       "      <td>SALAZAR BARRIOS, ADRIAN MANUEL</td>\n",
       "      <td>100476</td>\n",
       "      <td>95513966</td>\n",
       "    </tr>\n",
       "    <tr>\n",
       "      <th>2007</th>\n",
       "      <td>2008</td>\n",
       "      <td>CARDENAS QUISPE, ANDREW MIGUEL</td>\n",
       "      <td>100436</td>\n",
       "      <td>95521898</td>\n",
       "    </tr>\n",
       "    <tr>\n",
       "      <th>1477</th>\n",
       "      <td>1478</td>\n",
       "      <td>CARDENAS QUISPE, ANDREW MIGUEL</td>\n",
       "      <td>100436</td>\n",
       "      <td>95521898</td>\n",
       "    </tr>\n",
       "    <tr>\n",
       "      <th>8557</th>\n",
       "      <td>8558</td>\n",
       "      <td>PINEDA MONTILLA, ELVIS JANED</td>\n",
       "      <td>100452</td>\n",
       "      <td>95521916</td>\n",
       "    </tr>\n",
       "    <tr>\n",
       "      <th>6318</th>\n",
       "      <td>6319</td>\n",
       "      <td>PINEDA MONTILLA, ELVIS JANED</td>\n",
       "      <td>100452</td>\n",
       "      <td>95521916</td>\n",
       "    </tr>\n",
       "    <tr>\n",
       "      <th>4555</th>\n",
       "      <td>4556</td>\n",
       "      <td>GARCIA GARAYAR, MARLON DANIEL</td>\n",
       "      <td>100262</td>\n",
       "      <td>95556494</td>\n",
       "    </tr>\n",
       "    <tr>\n",
       "      <th>3322</th>\n",
       "      <td>3323</td>\n",
       "      <td>GARCIA GARAYAR, MARLON DANIEL</td>\n",
       "      <td>100262</td>\n",
       "      <td>95556494</td>\n",
       "    </tr>\n",
       "    <tr>\n",
       "      <th>5659</th>\n",
       "      <td>5660</td>\n",
       "      <td>NAVARRO VELASCO, CHRISTIAN</td>\n",
       "      <td>100460</td>\n",
       "      <td>95577051</td>\n",
       "    </tr>\n",
       "    <tr>\n",
       "      <th>7676</th>\n",
       "      <td>7677</td>\n",
       "      <td>NAVARRO VELASCO, CHRISTIAN</td>\n",
       "      <td>100460</td>\n",
       "      <td>95577051</td>\n",
       "    </tr>\n",
       "  </tbody>\n",
       "</table>\n",
       "<p>14140 rows × 4 columns</p>\n",
       "</div>"
      ],
      "text/plain": [
       "       N° ORDEN                            NOMBRE  Padrón       DNI\n",
       "6723       6724                RESIO, LUIS BENITO   33024  10390436\n",
       "9088       9089                RESIO, LUIS BENITO   33024  10390436\n",
       "5572       5573                IBARRA, SARA MABEL   64135  10972945\n",
       "4084       4085                IBARRA, SARA MABEL   64135  10972945\n",
       "7393       7394          MONSALVE, GUSTAVO ADOLFO   36561  11122336\n",
       "5461       5462          MONSALVE, GUSTAVO ADOLFO   36561  11122336\n",
       "9435       9436             ROJAS, MARCELO ANDRES   38601  11802981\n",
       "6979       6980             ROJAS, MARCELO ANDRES   38601  11802981\n",
       "5444       5445         MOLINERO, GUSTAVO EDGARDO   39437  11926253\n",
       "7369       7370         MOLINERO, GUSTAVO EDGARDO   39437  11926253\n",
       "7585       7586          SERVIDIO, FRANCISCO LUIS   42107  12088273\n",
       "10248     10249          SERVIDIO, FRANCISCO LUIS   42107  12088273\n",
       "937         938              BARRAL, JORGE NESTOR   43655  12865402\n",
       "696         697              BARRAL, JORGE NESTOR   43655  12865402\n",
       "6872       6873              RODONI, MABEL SUSANA   48332  12945878\n",
       "9282       9283              RODONI, MABEL SUSANA   48332  12945878\n",
       "7163       7164              MENDEZ, RAUL RICARDO   51555  13621375\n",
       "5297       5298              MENDEZ, RAUL RICARDO   51555  13621375\n",
       "7794       7795        STEKELORUM, CARLOS ALBERTO   52778  13852547\n",
       "10543     10544        STEKELORUM, CARLOS ALBERTO   52778  13852547\n",
       "639         640               ARILLO, LUIS ANIBAL   56078  14391762\n",
       "481         482               ARILLO, LUIS ANIBAL   56078  14391762\n",
       "8093       8094         PAOLANTONIO, CARLOS DARIO   51492  14768695\n",
       "5973       5974         PAOLANTONIO, CARLOS DARIO   51492  14768695\n",
       "5870       5871              KNAPP, FERNANDA ALBA   54428  16057084\n",
       "4312       4313              KNAPP, FERNANDA ALBA   54428  16057084\n",
       "5936       5937           PAILOS, EDGARDO GUSTAVO   69411  16266501\n",
       "8041       8042           PAILOS, EDGARDO GUSTAVO   69411  16266501\n",
       "1747       1748            CHAMI, FABIANA MARCELA   54437  16288413\n",
       "2396       2397            CHAMI, FABIANA MARCELA   54437  16288413\n",
       "...         ...                               ...     ...       ...\n",
       "2941       2942      CURBELO FERNANDEZ, ALEJANDRA   99286  95464402\n",
       "2122       2123      CURBELO FERNANDEZ, ALEJANDRA   99286  95464402\n",
       "3973       3974       HERNANDEZ MEZA, JOHN FELIPE   99568  95466366\n",
       "5425       5426       HERNANDEZ MEZA, JOHN FELIPE   99568  95466366\n",
       "1929       1930      CAÑON BELLO, CRISTIAN FELIPE  100162  95466824\n",
       "1418       1419      CAÑON BELLO, CRISTIAN FELIPE  100162  95466824\n",
       "6557       6558  QUIÑONES IZARRA, HECTOR REINALDO   99934  95469713\n",
       "8870       8871  QUIÑONES IZARRA, HECTOR REINALDO   99934  95469713\n",
       "2592       2593        COCA ABAD, ANTONY LEONARDO  100335  95479131\n",
       "1872       1873        COCA ABAD, ANTONY LEONARDO  100335  95479131\n",
       "8084       8085             PANOSO RUIZ, REINALDO  100147  95494549\n",
       "5970       5971             PANOSO RUIZ, REINALDO  100147  95494549\n",
       "6261       6262                PETROVSKIY, GEORGY  100084  95495017\n",
       "8481       8482                PETROVSKIY, GEORGY  100084  95495017\n",
       "1692       1693  CCARAHUANCO TOSCANO, LUIS MIGUEL  100098  95498722\n",
       "2309       2310  CCARAHUANCO TOSCANO, LUIS MIGUEL  100098  95498722\n",
       "2386       2387        CHACIN AMARAL, MARCO TULIO   99749  95502883\n",
       "1739       1740        CHACIN AMARAL, MARCO TULIO   99749  95502883\n",
       "6533       6534      QUEIROZ BEZERRA, JOAO CARLOS  100310  95512258\n",
       "8840       8841      QUEIROZ BEZERRA, JOAO CARLOS  100310  95512258\n",
       "9777       9778    SALAZAR BARRIOS, ADRIAN MANUEL  100476  95513966\n",
       "7241       7242    SALAZAR BARRIOS, ADRIAN MANUEL  100476  95513966\n",
       "2007       2008    CARDENAS QUISPE, ANDREW MIGUEL  100436  95521898\n",
       "1477       1478    CARDENAS QUISPE, ANDREW MIGUEL  100436  95521898\n",
       "8557       8558      PINEDA MONTILLA, ELVIS JANED  100452  95521916\n",
       "6318       6319      PINEDA MONTILLA, ELVIS JANED  100452  95521916\n",
       "4555       4556     GARCIA GARAYAR, MARLON DANIEL  100262  95556494\n",
       "3322       3323     GARCIA GARAYAR, MARLON DANIEL  100262  95556494\n",
       "5659       5660        NAVARRO VELASCO, CHRISTIAN  100460  95577051\n",
       "7676       7677        NAVARRO VELASCO, CHRISTIAN  100460  95577051\n",
       "\n",
       "[14140 rows x 4 columns]"
      ]
     },
     "execution_count": 178,
     "metadata": {},
     "output_type": "execute_result"
    }
   ],
   "source": [
    "dup_dni = cei_17[cei_17.duplicated(subset=\"DNI\", keep=False)].sort_values(\"DNI\")\n",
    "dup_dni"
   ]
  },
  {
   "cell_type": "markdown",
   "metadata": {},
   "source": [
    "Me fijo que no haya dnis duplicados que no sean efectivamente duplicados."
   ]
  },
  {
   "cell_type": "code",
   "execution_count": 179,
   "metadata": {
    "collapsed": false
   },
   "outputs": [
    {
     "data": {
      "text/html": [
       "<div>\n",
       "<table border=\"1\" class=\"dataframe\">\n",
       "  <thead>\n",
       "    <tr style=\"text-align: right;\">\n",
       "      <th></th>\n",
       "      <th>N° ORDEN</th>\n",
       "      <th>NOMBRE</th>\n",
       "      <th>Padrón</th>\n",
       "      <th>DNI</th>\n",
       "    </tr>\n",
       "  </thead>\n",
       "  <tbody>\n",
       "    <tr>\n",
       "      <th>9088</th>\n",
       "      <td>9089</td>\n",
       "      <td>RESIO, LUIS BENITO</td>\n",
       "      <td>33024</td>\n",
       "      <td>10390436</td>\n",
       "    </tr>\n",
       "    <tr>\n",
       "      <th>6723</th>\n",
       "      <td>6724</td>\n",
       "      <td>RESIO, LUIS BENITO</td>\n",
       "      <td>33024</td>\n",
       "      <td>10390436</td>\n",
       "    </tr>\n",
       "    <tr>\n",
       "      <th>4084</th>\n",
       "      <td>4085</td>\n",
       "      <td>IBARRA, SARA MABEL</td>\n",
       "      <td>64135</td>\n",
       "      <td>10972945</td>\n",
       "    </tr>\n",
       "    <tr>\n",
       "      <th>5572</th>\n",
       "      <td>5573</td>\n",
       "      <td>IBARRA, SARA MABEL</td>\n",
       "      <td>64135</td>\n",
       "      <td>10972945</td>\n",
       "    </tr>\n",
       "    <tr>\n",
       "      <th>5461</th>\n",
       "      <td>5462</td>\n",
       "      <td>MONSALVE, GUSTAVO ADOLFO</td>\n",
       "      <td>36561</td>\n",
       "      <td>11122336</td>\n",
       "    </tr>\n",
       "    <tr>\n",
       "      <th>7393</th>\n",
       "      <td>7394</td>\n",
       "      <td>MONSALVE, GUSTAVO ADOLFO</td>\n",
       "      <td>36561</td>\n",
       "      <td>11122336</td>\n",
       "    </tr>\n",
       "    <tr>\n",
       "      <th>9435</th>\n",
       "      <td>9436</td>\n",
       "      <td>ROJAS, MARCELO ANDRES</td>\n",
       "      <td>38601</td>\n",
       "      <td>11802981</td>\n",
       "    </tr>\n",
       "    <tr>\n",
       "      <th>6979</th>\n",
       "      <td>6980</td>\n",
       "      <td>ROJAS, MARCELO ANDRES</td>\n",
       "      <td>38601</td>\n",
       "      <td>11802981</td>\n",
       "    </tr>\n",
       "    <tr>\n",
       "      <th>5444</th>\n",
       "      <td>5445</td>\n",
       "      <td>MOLINERO, GUSTAVO EDGARDO</td>\n",
       "      <td>39437</td>\n",
       "      <td>11926253</td>\n",
       "    </tr>\n",
       "    <tr>\n",
       "      <th>7369</th>\n",
       "      <td>7370</td>\n",
       "      <td>MOLINERO, GUSTAVO EDGARDO</td>\n",
       "      <td>39437</td>\n",
       "      <td>11926253</td>\n",
       "    </tr>\n",
       "    <tr>\n",
       "      <th>10248</th>\n",
       "      <td>10249</td>\n",
       "      <td>SERVIDIO, FRANCISCO LUIS</td>\n",
       "      <td>42107</td>\n",
       "      <td>12088273</td>\n",
       "    </tr>\n",
       "    <tr>\n",
       "      <th>7585</th>\n",
       "      <td>7586</td>\n",
       "      <td>SERVIDIO, FRANCISCO LUIS</td>\n",
       "      <td>42107</td>\n",
       "      <td>12088273</td>\n",
       "    </tr>\n",
       "    <tr>\n",
       "      <th>696</th>\n",
       "      <td>697</td>\n",
       "      <td>BARRAL, JORGE NESTOR</td>\n",
       "      <td>43655</td>\n",
       "      <td>12865402</td>\n",
       "    </tr>\n",
       "    <tr>\n",
       "      <th>937</th>\n",
       "      <td>938</td>\n",
       "      <td>BARRAL, JORGE NESTOR</td>\n",
       "      <td>43655</td>\n",
       "      <td>12865402</td>\n",
       "    </tr>\n",
       "    <tr>\n",
       "      <th>6872</th>\n",
       "      <td>6873</td>\n",
       "      <td>RODONI, MABEL SUSANA</td>\n",
       "      <td>48332</td>\n",
       "      <td>12945878</td>\n",
       "    </tr>\n",
       "    <tr>\n",
       "      <th>9282</th>\n",
       "      <td>9283</td>\n",
       "      <td>RODONI, MABEL SUSANA</td>\n",
       "      <td>48332</td>\n",
       "      <td>12945878</td>\n",
       "    </tr>\n",
       "    <tr>\n",
       "      <th>7163</th>\n",
       "      <td>7164</td>\n",
       "      <td>MENDEZ, RAUL RICARDO</td>\n",
       "      <td>51555</td>\n",
       "      <td>13621375</td>\n",
       "    </tr>\n",
       "    <tr>\n",
       "      <th>5297</th>\n",
       "      <td>5298</td>\n",
       "      <td>MENDEZ, RAUL RICARDO</td>\n",
       "      <td>51555</td>\n",
       "      <td>13621375</td>\n",
       "    </tr>\n",
       "    <tr>\n",
       "      <th>7794</th>\n",
       "      <td>7795</td>\n",
       "      <td>STEKELORUM, CARLOS ALBERTO</td>\n",
       "      <td>52778</td>\n",
       "      <td>13852547</td>\n",
       "    </tr>\n",
       "    <tr>\n",
       "      <th>10543</th>\n",
       "      <td>10544</td>\n",
       "      <td>STEKELORUM, CARLOS ALBERTO</td>\n",
       "      <td>52778</td>\n",
       "      <td>13852547</td>\n",
       "    </tr>\n",
       "    <tr>\n",
       "      <th>639</th>\n",
       "      <td>640</td>\n",
       "      <td>ARILLO, LUIS ANIBAL</td>\n",
       "      <td>56078</td>\n",
       "      <td>14391762</td>\n",
       "    </tr>\n",
       "    <tr>\n",
       "      <th>481</th>\n",
       "      <td>482</td>\n",
       "      <td>ARILLO, LUIS ANIBAL</td>\n",
       "      <td>56078</td>\n",
       "      <td>14391762</td>\n",
       "    </tr>\n",
       "    <tr>\n",
       "      <th>8093</th>\n",
       "      <td>8094</td>\n",
       "      <td>PAOLANTONIO, CARLOS DARIO</td>\n",
       "      <td>51492</td>\n",
       "      <td>14768695</td>\n",
       "    </tr>\n",
       "    <tr>\n",
       "      <th>5973</th>\n",
       "      <td>5974</td>\n",
       "      <td>PAOLANTONIO, CARLOS DARIO</td>\n",
       "      <td>51492</td>\n",
       "      <td>14768695</td>\n",
       "    </tr>\n",
       "    <tr>\n",
       "      <th>4312</th>\n",
       "      <td>4313</td>\n",
       "      <td>KNAPP, FERNANDA ALBA</td>\n",
       "      <td>54428</td>\n",
       "      <td>16057084</td>\n",
       "    </tr>\n",
       "    <tr>\n",
       "      <th>5870</th>\n",
       "      <td>5871</td>\n",
       "      <td>KNAPP, FERNANDA ALBA</td>\n",
       "      <td>54428</td>\n",
       "      <td>16057084</td>\n",
       "    </tr>\n",
       "    <tr>\n",
       "      <th>8041</th>\n",
       "      <td>8042</td>\n",
       "      <td>PAILOS, EDGARDO GUSTAVO</td>\n",
       "      <td>69411</td>\n",
       "      <td>16266501</td>\n",
       "    </tr>\n",
       "    <tr>\n",
       "      <th>5936</th>\n",
       "      <td>5937</td>\n",
       "      <td>PAILOS, EDGARDO GUSTAVO</td>\n",
       "      <td>69411</td>\n",
       "      <td>16266501</td>\n",
       "    </tr>\n",
       "    <tr>\n",
       "      <th>1747</th>\n",
       "      <td>1748</td>\n",
       "      <td>CHAMI, FABIANA MARCELA</td>\n",
       "      <td>54437</td>\n",
       "      <td>16288413</td>\n",
       "    </tr>\n",
       "    <tr>\n",
       "      <th>2396</th>\n",
       "      <td>2397</td>\n",
       "      <td>CHAMI, FABIANA MARCELA</td>\n",
       "      <td>54437</td>\n",
       "      <td>16288413</td>\n",
       "    </tr>\n",
       "    <tr>\n",
       "      <th>...</th>\n",
       "      <td>...</td>\n",
       "      <td>...</td>\n",
       "      <td>...</td>\n",
       "      <td>...</td>\n",
       "    </tr>\n",
       "    <tr>\n",
       "      <th>2941</th>\n",
       "      <td>2942</td>\n",
       "      <td>CURBELO FERNANDEZ, ALEJANDRA</td>\n",
       "      <td>99286</td>\n",
       "      <td>95464402</td>\n",
       "    </tr>\n",
       "    <tr>\n",
       "      <th>2122</th>\n",
       "      <td>2123</td>\n",
       "      <td>CURBELO FERNANDEZ, ALEJANDRA</td>\n",
       "      <td>99286</td>\n",
       "      <td>95464402</td>\n",
       "    </tr>\n",
       "    <tr>\n",
       "      <th>3973</th>\n",
       "      <td>3974</td>\n",
       "      <td>HERNANDEZ MEZA, JOHN FELIPE</td>\n",
       "      <td>99568</td>\n",
       "      <td>95466366</td>\n",
       "    </tr>\n",
       "    <tr>\n",
       "      <th>5425</th>\n",
       "      <td>5426</td>\n",
       "      <td>HERNANDEZ MEZA, JOHN FELIPE</td>\n",
       "      <td>99568</td>\n",
       "      <td>95466366</td>\n",
       "    </tr>\n",
       "    <tr>\n",
       "      <th>1929</th>\n",
       "      <td>1930</td>\n",
       "      <td>CAÑON BELLO, CRISTIAN FELIPE</td>\n",
       "      <td>100162</td>\n",
       "      <td>95466824</td>\n",
       "    </tr>\n",
       "    <tr>\n",
       "      <th>1418</th>\n",
       "      <td>1419</td>\n",
       "      <td>CAÑON BELLO, CRISTIAN FELIPE</td>\n",
       "      <td>100162</td>\n",
       "      <td>95466824</td>\n",
       "    </tr>\n",
       "    <tr>\n",
       "      <th>6557</th>\n",
       "      <td>6558</td>\n",
       "      <td>QUIÑONES IZARRA, HECTOR REINALDO</td>\n",
       "      <td>99934</td>\n",
       "      <td>95469713</td>\n",
       "    </tr>\n",
       "    <tr>\n",
       "      <th>8870</th>\n",
       "      <td>8871</td>\n",
       "      <td>QUIÑONES IZARRA, HECTOR REINALDO</td>\n",
       "      <td>99934</td>\n",
       "      <td>95469713</td>\n",
       "    </tr>\n",
       "    <tr>\n",
       "      <th>2592</th>\n",
       "      <td>2593</td>\n",
       "      <td>COCA ABAD, ANTONY LEONARDO</td>\n",
       "      <td>100335</td>\n",
       "      <td>95479131</td>\n",
       "    </tr>\n",
       "    <tr>\n",
       "      <th>1872</th>\n",
       "      <td>1873</td>\n",
       "      <td>COCA ABAD, ANTONY LEONARDO</td>\n",
       "      <td>100335</td>\n",
       "      <td>95479131</td>\n",
       "    </tr>\n",
       "    <tr>\n",
       "      <th>8084</th>\n",
       "      <td>8085</td>\n",
       "      <td>PANOSO RUIZ, REINALDO</td>\n",
       "      <td>100147</td>\n",
       "      <td>95494549</td>\n",
       "    </tr>\n",
       "    <tr>\n",
       "      <th>5970</th>\n",
       "      <td>5971</td>\n",
       "      <td>PANOSO RUIZ, REINALDO</td>\n",
       "      <td>100147</td>\n",
       "      <td>95494549</td>\n",
       "    </tr>\n",
       "    <tr>\n",
       "      <th>6261</th>\n",
       "      <td>6262</td>\n",
       "      <td>PETROVSKIY, GEORGY</td>\n",
       "      <td>100084</td>\n",
       "      <td>95495017</td>\n",
       "    </tr>\n",
       "    <tr>\n",
       "      <th>8481</th>\n",
       "      <td>8482</td>\n",
       "      <td>PETROVSKIY, GEORGY</td>\n",
       "      <td>100084</td>\n",
       "      <td>95495017</td>\n",
       "    </tr>\n",
       "    <tr>\n",
       "      <th>1692</th>\n",
       "      <td>1693</td>\n",
       "      <td>CCARAHUANCO TOSCANO, LUIS MIGUEL</td>\n",
       "      <td>100098</td>\n",
       "      <td>95498722</td>\n",
       "    </tr>\n",
       "    <tr>\n",
       "      <th>2309</th>\n",
       "      <td>2310</td>\n",
       "      <td>CCARAHUANCO TOSCANO, LUIS MIGUEL</td>\n",
       "      <td>100098</td>\n",
       "      <td>95498722</td>\n",
       "    </tr>\n",
       "    <tr>\n",
       "      <th>2386</th>\n",
       "      <td>2387</td>\n",
       "      <td>CHACIN AMARAL, MARCO TULIO</td>\n",
       "      <td>99749</td>\n",
       "      <td>95502883</td>\n",
       "    </tr>\n",
       "    <tr>\n",
       "      <th>1739</th>\n",
       "      <td>1740</td>\n",
       "      <td>CHACIN AMARAL, MARCO TULIO</td>\n",
       "      <td>99749</td>\n",
       "      <td>95502883</td>\n",
       "    </tr>\n",
       "    <tr>\n",
       "      <th>6533</th>\n",
       "      <td>6534</td>\n",
       "      <td>QUEIROZ BEZERRA, JOAO CARLOS</td>\n",
       "      <td>100310</td>\n",
       "      <td>95512258</td>\n",
       "    </tr>\n",
       "    <tr>\n",
       "      <th>8840</th>\n",
       "      <td>8841</td>\n",
       "      <td>QUEIROZ BEZERRA, JOAO CARLOS</td>\n",
       "      <td>100310</td>\n",
       "      <td>95512258</td>\n",
       "    </tr>\n",
       "    <tr>\n",
       "      <th>9777</th>\n",
       "      <td>9778</td>\n",
       "      <td>SALAZAR BARRIOS, ADRIAN MANUEL</td>\n",
       "      <td>100476</td>\n",
       "      <td>95513966</td>\n",
       "    </tr>\n",
       "    <tr>\n",
       "      <th>7241</th>\n",
       "      <td>7242</td>\n",
       "      <td>SALAZAR BARRIOS, ADRIAN MANUEL</td>\n",
       "      <td>100476</td>\n",
       "      <td>95513966</td>\n",
       "    </tr>\n",
       "    <tr>\n",
       "      <th>2007</th>\n",
       "      <td>2008</td>\n",
       "      <td>CARDENAS QUISPE, ANDREW MIGUEL</td>\n",
       "      <td>100436</td>\n",
       "      <td>95521898</td>\n",
       "    </tr>\n",
       "    <tr>\n",
       "      <th>1477</th>\n",
       "      <td>1478</td>\n",
       "      <td>CARDENAS QUISPE, ANDREW MIGUEL</td>\n",
       "      <td>100436</td>\n",
       "      <td>95521898</td>\n",
       "    </tr>\n",
       "    <tr>\n",
       "      <th>8557</th>\n",
       "      <td>8558</td>\n",
       "      <td>PINEDA MONTILLA, ELVIS JANED</td>\n",
       "      <td>100452</td>\n",
       "      <td>95521916</td>\n",
       "    </tr>\n",
       "    <tr>\n",
       "      <th>6318</th>\n",
       "      <td>6319</td>\n",
       "      <td>PINEDA MONTILLA, ELVIS JANED</td>\n",
       "      <td>100452</td>\n",
       "      <td>95521916</td>\n",
       "    </tr>\n",
       "    <tr>\n",
       "      <th>4555</th>\n",
       "      <td>4556</td>\n",
       "      <td>GARCIA GARAYAR, MARLON DANIEL</td>\n",
       "      <td>100262</td>\n",
       "      <td>95556494</td>\n",
       "    </tr>\n",
       "    <tr>\n",
       "      <th>3322</th>\n",
       "      <td>3323</td>\n",
       "      <td>GARCIA GARAYAR, MARLON DANIEL</td>\n",
       "      <td>100262</td>\n",
       "      <td>95556494</td>\n",
       "    </tr>\n",
       "    <tr>\n",
       "      <th>5659</th>\n",
       "      <td>5660</td>\n",
       "      <td>NAVARRO VELASCO, CHRISTIAN</td>\n",
       "      <td>100460</td>\n",
       "      <td>95577051</td>\n",
       "    </tr>\n",
       "    <tr>\n",
       "      <th>7676</th>\n",
       "      <td>7677</td>\n",
       "      <td>NAVARRO VELASCO, CHRISTIAN</td>\n",
       "      <td>100460</td>\n",
       "      <td>95577051</td>\n",
       "    </tr>\n",
       "  </tbody>\n",
       "</table>\n",
       "<p>14138 rows × 4 columns</p>\n",
       "</div>"
      ],
      "text/plain": [
       "       N° ORDEN                            NOMBRE  Padrón       DNI\n",
       "9088       9089                RESIO, LUIS BENITO   33024  10390436\n",
       "6723       6724                RESIO, LUIS BENITO   33024  10390436\n",
       "4084       4085                IBARRA, SARA MABEL   64135  10972945\n",
       "5572       5573                IBARRA, SARA MABEL   64135  10972945\n",
       "5461       5462          MONSALVE, GUSTAVO ADOLFO   36561  11122336\n",
       "7393       7394          MONSALVE, GUSTAVO ADOLFO   36561  11122336\n",
       "9435       9436             ROJAS, MARCELO ANDRES   38601  11802981\n",
       "6979       6980             ROJAS, MARCELO ANDRES   38601  11802981\n",
       "5444       5445         MOLINERO, GUSTAVO EDGARDO   39437  11926253\n",
       "7369       7370         MOLINERO, GUSTAVO EDGARDO   39437  11926253\n",
       "10248     10249          SERVIDIO, FRANCISCO LUIS   42107  12088273\n",
       "7585       7586          SERVIDIO, FRANCISCO LUIS   42107  12088273\n",
       "696         697              BARRAL, JORGE NESTOR   43655  12865402\n",
       "937         938              BARRAL, JORGE NESTOR   43655  12865402\n",
       "6872       6873              RODONI, MABEL SUSANA   48332  12945878\n",
       "9282       9283              RODONI, MABEL SUSANA   48332  12945878\n",
       "7163       7164              MENDEZ, RAUL RICARDO   51555  13621375\n",
       "5297       5298              MENDEZ, RAUL RICARDO   51555  13621375\n",
       "7794       7795        STEKELORUM, CARLOS ALBERTO   52778  13852547\n",
       "10543     10544        STEKELORUM, CARLOS ALBERTO   52778  13852547\n",
       "639         640               ARILLO, LUIS ANIBAL   56078  14391762\n",
       "481         482               ARILLO, LUIS ANIBAL   56078  14391762\n",
       "8093       8094         PAOLANTONIO, CARLOS DARIO   51492  14768695\n",
       "5973       5974         PAOLANTONIO, CARLOS DARIO   51492  14768695\n",
       "4312       4313              KNAPP, FERNANDA ALBA   54428  16057084\n",
       "5870       5871              KNAPP, FERNANDA ALBA   54428  16057084\n",
       "8041       8042           PAILOS, EDGARDO GUSTAVO   69411  16266501\n",
       "5936       5937           PAILOS, EDGARDO GUSTAVO   69411  16266501\n",
       "1747       1748            CHAMI, FABIANA MARCELA   54437  16288413\n",
       "2396       2397            CHAMI, FABIANA MARCELA   54437  16288413\n",
       "...         ...                               ...     ...       ...\n",
       "2941       2942      CURBELO FERNANDEZ, ALEJANDRA   99286  95464402\n",
       "2122       2123      CURBELO FERNANDEZ, ALEJANDRA   99286  95464402\n",
       "3973       3974       HERNANDEZ MEZA, JOHN FELIPE   99568  95466366\n",
       "5425       5426       HERNANDEZ MEZA, JOHN FELIPE   99568  95466366\n",
       "1929       1930      CAÑON BELLO, CRISTIAN FELIPE  100162  95466824\n",
       "1418       1419      CAÑON BELLO, CRISTIAN FELIPE  100162  95466824\n",
       "6557       6558  QUIÑONES IZARRA, HECTOR REINALDO   99934  95469713\n",
       "8870       8871  QUIÑONES IZARRA, HECTOR REINALDO   99934  95469713\n",
       "2592       2593        COCA ABAD, ANTONY LEONARDO  100335  95479131\n",
       "1872       1873        COCA ABAD, ANTONY LEONARDO  100335  95479131\n",
       "8084       8085             PANOSO RUIZ, REINALDO  100147  95494549\n",
       "5970       5971             PANOSO RUIZ, REINALDO  100147  95494549\n",
       "6261       6262                PETROVSKIY, GEORGY  100084  95495017\n",
       "8481       8482                PETROVSKIY, GEORGY  100084  95495017\n",
       "1692       1693  CCARAHUANCO TOSCANO, LUIS MIGUEL  100098  95498722\n",
       "2309       2310  CCARAHUANCO TOSCANO, LUIS MIGUEL  100098  95498722\n",
       "2386       2387        CHACIN AMARAL, MARCO TULIO   99749  95502883\n",
       "1739       1740        CHACIN AMARAL, MARCO TULIO   99749  95502883\n",
       "6533       6534      QUEIROZ BEZERRA, JOAO CARLOS  100310  95512258\n",
       "8840       8841      QUEIROZ BEZERRA, JOAO CARLOS  100310  95512258\n",
       "9777       9778    SALAZAR BARRIOS, ADRIAN MANUEL  100476  95513966\n",
       "7241       7242    SALAZAR BARRIOS, ADRIAN MANUEL  100476  95513966\n",
       "2007       2008    CARDENAS QUISPE, ANDREW MIGUEL  100436  95521898\n",
       "1477       1478    CARDENAS QUISPE, ANDREW MIGUEL  100436  95521898\n",
       "8557       8558      PINEDA MONTILLA, ELVIS JANED  100452  95521916\n",
       "6318       6319      PINEDA MONTILLA, ELVIS JANED  100452  95521916\n",
       "4555       4556     GARCIA GARAYAR, MARLON DANIEL  100262  95556494\n",
       "3322       3323     GARCIA GARAYAR, MARLON DANIEL  100262  95556494\n",
       "5659       5660        NAVARRO VELASCO, CHRISTIAN  100460  95577051\n",
       "7676       7677        NAVARRO VELASCO, CHRISTIAN  100460  95577051\n",
       "\n",
       "[14138 rows x 4 columns]"
      ]
     },
     "execution_count": 179,
     "metadata": {},
     "output_type": "execute_result"
    }
   ],
   "source": [
    "dup_no = cei_17[cei_17.duplicated(subset=[\"DNI\", \"Padrón\"], keep=False)].sort_values(\"DNI\")\n",
    "dup_no"
   ]
  },
  {
   "cell_type": "markdown",
   "metadata": {},
   "source": [
    "Hay 1 DNI repetido cuyo padrón no coincide."
   ]
  },
  {
   "cell_type": "code",
   "execution_count": 180,
   "metadata": {
    "collapsed": false
   },
   "outputs": [
    {
     "data": {
      "text/html": [
       "<div>\n",
       "<table border=\"1\" class=\"dataframe\">\n",
       "  <thead>\n",
       "    <tr style=\"text-align: right;\">\n",
       "      <th></th>\n",
       "      <th>N° ORDEN</th>\n",
       "      <th>NOMBRE</th>\n",
       "      <th>Padrón</th>\n",
       "      <th>DNI</th>\n",
       "    </tr>\n",
       "  </thead>\n",
       "  <tbody>\n",
       "    <tr>\n",
       "      <th>9780</th>\n",
       "      <td>9781</td>\n",
       "      <td>SALAZAR VARGAS, CARLOS ROBERTO</td>\n",
       "      <td>B0239</td>\n",
       "      <td>93890243</td>\n",
       "    </tr>\n",
       "    <tr>\n",
       "      <th>7243</th>\n",
       "      <td>7244</td>\n",
       "      <td>SALAZAR VARGAS, CARLOS ROBERTO                 B</td>\n",
       "      <td>239</td>\n",
       "      <td>93890243</td>\n",
       "    </tr>\n",
       "  </tbody>\n",
       "</table>\n",
       "</div>"
      ],
      "text/plain": [
       "      N° ORDEN                                            NOMBRE Padrón  \\\n",
       "9780      9781                    SALAZAR VARGAS, CARLOS ROBERTO  B0239   \n",
       "7243      7244  SALAZAR VARGAS, CARLOS ROBERTO                 B    239   \n",
       "\n",
       "           DNI  \n",
       "9780  93890243  \n",
       "7243  93890243  "
      ]
     },
     "execution_count": 180,
     "metadata": {},
     "output_type": "execute_result"
    }
   ],
   "source": [
    "dup_dni[~dup_dni.DNI.isin(dup_no.DNI)]"
   ]
  },
  {
   "cell_type": "markdown",
   "metadata": {},
   "source": [
    "Los que coniciden en DNI están efectivamente duplicados. Los quitamos."
   ]
  },
  {
   "cell_type": "code",
   "execution_count": 181,
   "metadata": {
    "collapsed": false
   },
   "outputs": [],
   "source": [
    "cei_17 = cei_17[~cei_17.duplicated(subset=\"DNI\", keep=\"first\")]"
   ]
  },
  {
   "cell_type": "code",
   "execution_count": 182,
   "metadata": {
    "collapsed": false
   },
   "outputs": [
    {
     "data": {
      "text/plain": [
       "0"
      ]
     },
     "execution_count": 182,
     "metadata": {},
     "output_type": "execute_result"
    }
   ],
   "source": [
    "cei_17.duplicated(subset=\"DNI\").sum()"
   ]
  },
  {
   "cell_type": "markdown",
   "metadata": {},
   "source": [
    "Duplicados fueron eliminados. Ahora podemos ver cuántos estudiantes se agregaron al padrón."
   ]
  },
  {
   "cell_type": "code",
   "execution_count": 183,
   "metadata": {
    "collapsed": false
   },
   "outputs": [
    {
     "data": {
      "text/plain": [
       "1634"
      ]
     },
     "execution_count": 183,
     "metadata": {},
     "output_type": "execute_result"
    }
   ],
   "source": [
    "len(cei_17)-len(cei_16)"
   ]
  },
  {
   "cell_type": "markdown",
   "metadata": {},
   "source": [
    "### Remoción de Graduados"
   ]
  },
  {
   "cell_type": "code",
   "execution_count": 184,
   "metadata": {
    "collapsed": false
   },
   "outputs": [
    {
     "data": {
      "text/plain": [
       "196"
      ]
     },
     "execution_count": 184,
     "metadata": {},
     "output_type": "execute_result"
    }
   ],
   "source": [
    "grad_dni = cei_17[cei_17.DNI.isin(grad_16.DNI)]\n",
    "len(grad_dni)"
   ]
  },
  {
   "cell_type": "code",
   "execution_count": 185,
   "metadata": {
    "collapsed": false,
    "scrolled": true
   },
   "outputs": [
    {
     "data": {
      "text/plain": [
       "196"
      ]
     },
     "execution_count": 185,
     "metadata": {},
     "output_type": "execute_result"
    }
   ],
   "source": [
    "grad_pad = cei_17[cei_17[\"Padrón\"].isin(grad_16[\"Padrón\"])]\n",
    "len(grad_pad)"
   ]
  },
  {
   "cell_type": "code",
   "execution_count": 186,
   "metadata": {
    "collapsed": false
   },
   "outputs": [
    {
     "data": {
      "text/plain": [
       "196"
      ]
     },
     "execution_count": 186,
     "metadata": {},
     "output_type": "execute_result"
    }
   ],
   "source": [
    "grad_dni.DNI.isin(grad_pad.DNI).sum()"
   ]
  },
  {
   "cell_type": "markdown",
   "metadata": {},
   "source": [
    "Confirmado por padrón y DNI, son 196 graduados los que se van. Los quitamos."
   ]
  },
  {
   "cell_type": "code",
   "execution_count": 187,
   "metadata": {
    "collapsed": false
   },
   "outputs": [],
   "source": [
    "cei_17 = cei_17[~cei_17.DNI.isin(grad_16.DNI)]"
   ]
  },
  {
   "cell_type": "markdown",
   "metadata": {},
   "source": [
    "Cantidad _neta_ agregada, por si sirve de algo."
   ]
  },
  {
   "cell_type": "code",
   "execution_count": 188,
   "metadata": {
    "collapsed": false
   },
   "outputs": [
    {
     "data": {
      "text/plain": [
       "1438"
      ]
     },
     "execution_count": 188,
     "metadata": {},
     "output_type": "execute_result"
    }
   ],
   "source": [
    "len(cei_17) - len(cei_16)"
   ]
  },
  {
   "cell_type": "markdown",
   "metadata": {},
   "source": [
    "## Escribimos el padrón a un csv"
   ]
  },
  {
   "cell_type": "markdown",
   "metadata": {},
   "source": [
    "Primero ordenamos por apellido y pisamos el número de orden."
   ]
  },
  {
   "cell_type": "code",
   "execution_count": 189,
   "metadata": {
    "collapsed": false
   },
   "outputs": [],
   "source": [
    "cei_17 = cei_17.sort_values(\"NOMBRE\", ascending=True).reset_index().drop([\"index\", \"N° ORDEN\"], axis=1)"
   ]
  },
  {
   "cell_type": "code",
   "execution_count": 190,
   "metadata": {
    "collapsed": false
   },
   "outputs": [],
   "source": [
    "cei_17 = cei_17.reset_index()"
   ]
  },
  {
   "cell_type": "code",
   "execution_count": 191,
   "metadata": {
    "collapsed": false
   },
   "outputs": [],
   "source": [
    "cei_17[\"index\"] = cei_17[\"index\"]+1"
   ]
  },
  {
   "cell_type": "code",
   "execution_count": 192,
   "metadata": {
    "collapsed": false
   },
   "outputs": [],
   "source": [
    "cei_17.rename(columns={\"index\": \"N° Orden\"}, inplace=True)"
   ]
  },
  {
   "cell_type": "code",
   "execution_count": 193,
   "metadata": {
    "collapsed": false,
    "scrolled": true
   },
   "outputs": [
    {
     "data": {
      "text/html": [
       "<div>\n",
       "<table border=\"1\" class=\"dataframe\">\n",
       "  <thead>\n",
       "    <tr style=\"text-align: right;\">\n",
       "      <th></th>\n",
       "      <th>N° Orden</th>\n",
       "      <th>NOMBRE</th>\n",
       "      <th>Padrón</th>\n",
       "      <th>DNI</th>\n",
       "    </tr>\n",
       "  </thead>\n",
       "  <tbody>\n",
       "    <tr>\n",
       "      <th>0</th>\n",
       "      <td>1</td>\n",
       "      <td>AAS, PETTER FOSSAN</td>\n",
       "      <td>100346</td>\n",
       "      <td>29086232</td>\n",
       "    </tr>\n",
       "    <tr>\n",
       "      <th>1</th>\n",
       "      <td>2</td>\n",
       "      <td>ABABOU, KHALIL</td>\n",
       "      <td>97708</td>\n",
       "      <td>RA1057904</td>\n",
       "    </tr>\n",
       "    <tr>\n",
       "      <th>2</th>\n",
       "      <td>3</td>\n",
       "      <td>ABAD, ARIEL IGNACIO</td>\n",
       "      <td>86213</td>\n",
       "      <td>32166584</td>\n",
       "    </tr>\n",
       "    <tr>\n",
       "      <th>3</th>\n",
       "      <td>4</td>\n",
       "      <td>ABAD, MANUEL</td>\n",
       "      <td>89007</td>\n",
       "      <td>32553674</td>\n",
       "    </tr>\n",
       "    <tr>\n",
       "      <th>4</th>\n",
       "      <td>5</td>\n",
       "      <td>ABADI, BETINA</td>\n",
       "      <td>93386</td>\n",
       "      <td>35902423</td>\n",
       "    </tr>\n",
       "    <tr>\n",
       "      <th>5</th>\n",
       "      <td>6</td>\n",
       "      <td>ABAL, FLORENCIA</td>\n",
       "      <td>98128</td>\n",
       "      <td>39743372</td>\n",
       "    </tr>\n",
       "    <tr>\n",
       "      <th>6</th>\n",
       "      <td>7</td>\n",
       "      <td>ABALLAY PIÑEIRO, MARIA BELEN</td>\n",
       "      <td>97420</td>\n",
       "      <td>39321842</td>\n",
       "    </tr>\n",
       "    <tr>\n",
       "      <th>7</th>\n",
       "      <td>8</td>\n",
       "      <td>ABALOS, JOSÉ DANIEL</td>\n",
       "      <td>98584</td>\n",
       "      <td>38748437</td>\n",
       "    </tr>\n",
       "    <tr>\n",
       "      <th>8</th>\n",
       "      <td>9</td>\n",
       "      <td>ABALOS, PATRICIO RICARDO</td>\n",
       "      <td>92850</td>\n",
       "      <td>35970834</td>\n",
       "    </tr>\n",
       "    <tr>\n",
       "      <th>9</th>\n",
       "      <td>10</td>\n",
       "      <td>ABATE, FERNANDO ANGEL</td>\n",
       "      <td>71962</td>\n",
       "      <td>23277085</td>\n",
       "    </tr>\n",
       "    <tr>\n",
       "      <th>10</th>\n",
       "      <td>11</td>\n",
       "      <td>ABATE, MIGUEL AGUSTÍN</td>\n",
       "      <td>84084</td>\n",
       "      <td>31207574</td>\n",
       "    </tr>\n",
       "    <tr>\n",
       "      <th>11</th>\n",
       "      <td>12</td>\n",
       "      <td>ABATE, TOMAS</td>\n",
       "      <td>90894</td>\n",
       "      <td>34630309</td>\n",
       "    </tr>\n",
       "    <tr>\n",
       "      <th>12</th>\n",
       "      <td>13</td>\n",
       "      <td>ABAURRE, NICOLAS ALEJANDRO</td>\n",
       "      <td>78208</td>\n",
       "      <td>27356596</td>\n",
       "    </tr>\n",
       "    <tr>\n",
       "      <th>13</th>\n",
       "      <td>14</td>\n",
       "      <td>ABBA, MARCOS</td>\n",
       "      <td>90614</td>\n",
       "      <td>33619728</td>\n",
       "    </tr>\n",
       "    <tr>\n",
       "      <th>14</th>\n",
       "      <td>15</td>\n",
       "      <td>ABBATE, MARIANO</td>\n",
       "      <td>100142</td>\n",
       "      <td>39434276</td>\n",
       "    </tr>\n",
       "    <tr>\n",
       "      <th>15</th>\n",
       "      <td>16</td>\n",
       "      <td>ABBENDA DE OTO, FRANCO LUCIANO</td>\n",
       "      <td>101048</td>\n",
       "      <td>40513155</td>\n",
       "    </tr>\n",
       "    <tr>\n",
       "      <th>16</th>\n",
       "      <td>17</td>\n",
       "      <td>ABBENE, FEDERICO</td>\n",
       "      <td>91032</td>\n",
       "      <td>34593429</td>\n",
       "    </tr>\n",
       "    <tr>\n",
       "      <th>17</th>\n",
       "      <td>18</td>\n",
       "      <td>ABBONDANZA, ALEJANDRO</td>\n",
       "      <td>77296</td>\n",
       "      <td>26000949</td>\n",
       "    </tr>\n",
       "    <tr>\n",
       "      <th>18</th>\n",
       "      <td>19</td>\n",
       "      <td>ABBOUD, IGNACIO</td>\n",
       "      <td>96567</td>\n",
       "      <td>38521607</td>\n",
       "    </tr>\n",
       "    <tr>\n",
       "      <th>19</th>\n",
       "      <td>20</td>\n",
       "      <td>ABD, PABLO EZEQUIEL</td>\n",
       "      <td>86745</td>\n",
       "      <td>31223954</td>\n",
       "    </tr>\n",
       "    <tr>\n",
       "      <th>20</th>\n",
       "      <td>21</td>\n",
       "      <td>ABDO, EDUARDO JOSE</td>\n",
       "      <td>93557</td>\n",
       "      <td>36826533</td>\n",
       "    </tr>\n",
       "    <tr>\n",
       "      <th>21</th>\n",
       "      <td>22</td>\n",
       "      <td>ABECHIAN, EMILIANO GABRIEL</td>\n",
       "      <td>101648</td>\n",
       "      <td>40731619</td>\n",
       "    </tr>\n",
       "    <tr>\n",
       "      <th>22</th>\n",
       "      <td>23</td>\n",
       "      <td>ABEIJÓN BASSET, FRANCO</td>\n",
       "      <td>98762</td>\n",
       "      <td>39171584</td>\n",
       "    </tr>\n",
       "    <tr>\n",
       "      <th>23</th>\n",
       "      <td>24</td>\n",
       "      <td>ABELE, ANTONELLA CATERINA</td>\n",
       "      <td>94512</td>\n",
       "      <td>37432783</td>\n",
       "    </tr>\n",
       "    <tr>\n",
       "      <th>24</th>\n",
       "      <td>25</td>\n",
       "      <td>ABELENDA, FACUNDO</td>\n",
       "      <td>93590</td>\n",
       "      <td>36636391</td>\n",
       "    </tr>\n",
       "    <tr>\n",
       "      <th>25</th>\n",
       "      <td>26</td>\n",
       "      <td>ABELLA, DIEGO ALEJANDRO</td>\n",
       "      <td>84443</td>\n",
       "      <td>31438529</td>\n",
       "    </tr>\n",
       "    <tr>\n",
       "      <th>26</th>\n",
       "      <td>27</td>\n",
       "      <td>ABENTIN, FRANCISCO</td>\n",
       "      <td>79277</td>\n",
       "      <td>27778370</td>\n",
       "    </tr>\n",
       "    <tr>\n",
       "      <th>27</th>\n",
       "      <td>28</td>\n",
       "      <td>ABERASTURY, LUCÍA</td>\n",
       "      <td>93150</td>\n",
       "      <td>36158896</td>\n",
       "    </tr>\n",
       "    <tr>\n",
       "      <th>28</th>\n",
       "      <td>29</td>\n",
       "      <td>ABERASTURY, MARIANA</td>\n",
       "      <td>91087</td>\n",
       "      <td>34744380</td>\n",
       "    </tr>\n",
       "    <tr>\n",
       "      <th>29</th>\n",
       "      <td>30</td>\n",
       "      <td>ABIERI, JUAN AUGUSTO</td>\n",
       "      <td>97483</td>\n",
       "      <td>38886785</td>\n",
       "    </tr>\n",
       "    <tr>\n",
       "      <th>...</th>\n",
       "      <td>...</td>\n",
       "      <td>...</td>\n",
       "      <td>...</td>\n",
       "      <td>...</td>\n",
       "    </tr>\n",
       "    <tr>\n",
       "      <th>13194</th>\n",
       "      <td>13195</td>\n",
       "      <td>de URTIAGA, RODRIGO ADOLFO</td>\n",
       "      <td>93344</td>\n",
       "      <td>36688572</td>\n",
       "    </tr>\n",
       "    <tr>\n",
       "      <th>13195</th>\n",
       "      <td>13196</td>\n",
       "      <td>de VALAIS, EZEQUIEL MARTIN</td>\n",
       "      <td>94463</td>\n",
       "      <td>36882289</td>\n",
       "    </tr>\n",
       "    <tr>\n",
       "      <th>13196</th>\n",
       "      <td>13197</td>\n",
       "      <td>de VEDIA, SEGUNDO JOSE</td>\n",
       "      <td>99720</td>\n",
       "      <td>39334126</td>\n",
       "    </tr>\n",
       "    <tr>\n",
       "      <th>13197</th>\n",
       "      <td>13198</td>\n",
       "      <td>de VERA, SOFÍA</td>\n",
       "      <td>100982</td>\n",
       "      <td>39756599</td>\n",
       "    </tr>\n",
       "    <tr>\n",
       "      <th>13198</th>\n",
       "      <td>13199</td>\n",
       "      <td>de ZABALETA CLERICI, GERVASIO</td>\n",
       "      <td>97825</td>\n",
       "      <td>39417045</td>\n",
       "    </tr>\n",
       "    <tr>\n",
       "      <th>13199</th>\n",
       "      <td>13200</td>\n",
       "      <td>de la FUENTE BADANO, JUAN MANUEL</td>\n",
       "      <td>89647</td>\n",
       "      <td>34001308</td>\n",
       "    </tr>\n",
       "    <tr>\n",
       "      <th>13200</th>\n",
       "      <td>13201</td>\n",
       "      <td>de la FUENTE, HERNAN</td>\n",
       "      <td>95730</td>\n",
       "      <td>38202215</td>\n",
       "    </tr>\n",
       "    <tr>\n",
       "      <th>13201</th>\n",
       "      <td>13202</td>\n",
       "      <td>de la HORRA GATTELLI, NATALIA GUADALUPE</td>\n",
       "      <td>92555</td>\n",
       "      <td>34080467</td>\n",
       "    </tr>\n",
       "    <tr>\n",
       "      <th>13202</th>\n",
       "      <td>13203</td>\n",
       "      <td>de la PLATA, FACUNDO GASTON</td>\n",
       "      <td>100558</td>\n",
       "      <td>40132040</td>\n",
       "    </tr>\n",
       "    <tr>\n",
       "      <th>13203</th>\n",
       "      <td>13204</td>\n",
       "      <td>de la RUA, MANUEL</td>\n",
       "      <td>93692</td>\n",
       "      <td>36728382</td>\n",
       "    </tr>\n",
       "    <tr>\n",
       "      <th>13204</th>\n",
       "      <td>13205</td>\n",
       "      <td>de la VEGA, MARTÍN</td>\n",
       "      <td>90665</td>\n",
       "      <td>34434804</td>\n",
       "    </tr>\n",
       "    <tr>\n",
       "      <th>13205</th>\n",
       "      <td>13206</td>\n",
       "      <td>de los HEROS, AGUSTIN</td>\n",
       "      <td>101897</td>\n",
       "      <td>40063610</td>\n",
       "    </tr>\n",
       "    <tr>\n",
       "      <th>13206</th>\n",
       "      <td>13207</td>\n",
       "      <td>de los HEROS, LAUTARO</td>\n",
       "      <td>95414</td>\n",
       "      <td>38300972</td>\n",
       "    </tr>\n",
       "    <tr>\n",
       "      <th>13207</th>\n",
       "      <td>13208</td>\n",
       "      <td>de los HEROS, MARIANELA</td>\n",
       "      <td>93050</td>\n",
       "      <td>35992265</td>\n",
       "    </tr>\n",
       "    <tr>\n",
       "      <th>13208</th>\n",
       "      <td>13209</td>\n",
       "      <td>de los SANTOS, RODRIGO MARTÍN</td>\n",
       "      <td>92380</td>\n",
       "      <td>35969203</td>\n",
       "    </tr>\n",
       "    <tr>\n",
       "      <th>13209</th>\n",
       "      <td>13210</td>\n",
       "      <td>del CAMPO CARRANZA, CRISTIAN ANDRES</td>\n",
       "      <td>93775</td>\n",
       "      <td>36153564</td>\n",
       "    </tr>\n",
       "    <tr>\n",
       "      <th>13210</th>\n",
       "      <td>13211</td>\n",
       "      <td>del ESTAL, LUCAS GABRIEL</td>\n",
       "      <td>94430</td>\n",
       "      <td>37339421</td>\n",
       "    </tr>\n",
       "    <tr>\n",
       "      <th>13211</th>\n",
       "      <td>13212</td>\n",
       "      <td>del MAZO, FEDERICO</td>\n",
       "      <td>100029</td>\n",
       "      <td>40230465</td>\n",
       "    </tr>\n",
       "    <tr>\n",
       "      <th>13212</th>\n",
       "      <td>13213</td>\n",
       "      <td>del MOLINO TORRES, JOAQUIN</td>\n",
       "      <td>99369</td>\n",
       "      <td>39909107</td>\n",
       "    </tr>\n",
       "    <tr>\n",
       "      <th>13213</th>\n",
       "      <td>13214</td>\n",
       "      <td>del POZO, FRANCISCO MARCELO</td>\n",
       "      <td>101656</td>\n",
       "      <td>39773918</td>\n",
       "    </tr>\n",
       "    <tr>\n",
       "      <th>13214</th>\n",
       "      <td>13215</td>\n",
       "      <td>del PRADO, JORGE ALBERTO</td>\n",
       "      <td>93554</td>\n",
       "      <td>13844363</td>\n",
       "    </tr>\n",
       "    <tr>\n",
       "      <th>13215</th>\n",
       "      <td>13216</td>\n",
       "      <td>del PRIORE, JOAQUIN</td>\n",
       "      <td>93710</td>\n",
       "      <td>36399053</td>\n",
       "    </tr>\n",
       "    <tr>\n",
       "      <th>13216</th>\n",
       "      <td>13217</td>\n",
       "      <td>del RIO, JUAN AGUSTIN</td>\n",
       "      <td>81812</td>\n",
       "      <td>29866529</td>\n",
       "    </tr>\n",
       "    <tr>\n",
       "      <th>13217</th>\n",
       "      <td>13218</td>\n",
       "      <td>del VALLE, FRANCISCO</td>\n",
       "      <td>97946</td>\n",
       "      <td>39667422</td>\n",
       "    </tr>\n",
       "    <tr>\n",
       "      <th>13218</th>\n",
       "      <td>13219</td>\n",
       "      <td>di ROSSO, ALEJANDRO FRANCISCO</td>\n",
       "      <td>85605</td>\n",
       "      <td>31987144</td>\n",
       "    </tr>\n",
       "    <tr>\n",
       "      <th>13219</th>\n",
       "      <td>13220</td>\n",
       "      <td>di TADA, SANTIAGO DANIEL</td>\n",
       "      <td>96055</td>\n",
       "      <td>38268295</td>\n",
       "    </tr>\n",
       "    <tr>\n",
       "      <th>13220</th>\n",
       "      <td>13221</td>\n",
       "      <td>van den BROECK, IGNACIO</td>\n",
       "      <td>100044</td>\n",
       "      <td>40008734</td>\n",
       "    </tr>\n",
       "    <tr>\n",
       "      <th>13221</th>\n",
       "      <td>13222</td>\n",
       "      <td>ÁLVAREZ, DARÍO GONZALO</td>\n",
       "      <td>86076</td>\n",
       "      <td>31917236</td>\n",
       "    </tr>\n",
       "    <tr>\n",
       "      <th>13222</th>\n",
       "      <td>13223</td>\n",
       "      <td>ÁNGEL ENRÍQUEZ, CARLOS JOSAPHAT</td>\n",
       "      <td>100404</td>\n",
       "      <td>G18960304</td>\n",
       "    </tr>\n",
       "    <tr>\n",
       "      <th>13223</th>\n",
       "      <td>13224</td>\n",
       "      <td>ÑAÑEZ, MATIAS</td>\n",
       "      <td>94951</td>\n",
       "      <td>36452694</td>\n",
       "    </tr>\n",
       "  </tbody>\n",
       "</table>\n",
       "<p>13224 rows × 4 columns</p>\n",
       "</div>"
      ],
      "text/plain": [
       "       N° Orden                                   NOMBRE  Padrón        DNI\n",
       "0             1                       AAS, PETTER FOSSAN  100346   29086232\n",
       "1             2                           ABABOU, KHALIL   97708  RA1057904\n",
       "2             3                      ABAD, ARIEL IGNACIO   86213   32166584\n",
       "3             4                             ABAD, MANUEL   89007   32553674\n",
       "4             5                            ABADI, BETINA   93386   35902423\n",
       "5             6                          ABAL, FLORENCIA   98128   39743372\n",
       "6             7             ABALLAY PIÑEIRO, MARIA BELEN   97420   39321842\n",
       "7             8                      ABALOS, JOSÉ DANIEL   98584   38748437\n",
       "8             9                 ABALOS, PATRICIO RICARDO   92850   35970834\n",
       "9            10                    ABATE, FERNANDO ANGEL   71962   23277085\n",
       "10           11                    ABATE, MIGUEL AGUSTÍN   84084   31207574\n",
       "11           12                             ABATE, TOMAS   90894   34630309\n",
       "12           13               ABAURRE, NICOLAS ALEJANDRO   78208   27356596\n",
       "13           14                             ABBA, MARCOS   90614   33619728\n",
       "14           15                          ABBATE, MARIANO  100142   39434276\n",
       "15           16           ABBENDA DE OTO, FRANCO LUCIANO  101048   40513155\n",
       "16           17                         ABBENE, FEDERICO   91032   34593429\n",
       "17           18                    ABBONDANZA, ALEJANDRO   77296   26000949\n",
       "18           19                          ABBOUD, IGNACIO   96567   38521607\n",
       "19           20                      ABD, PABLO EZEQUIEL   86745   31223954\n",
       "20           21                       ABDO, EDUARDO JOSE   93557   36826533\n",
       "21           22               ABECHIAN, EMILIANO GABRIEL  101648   40731619\n",
       "22           23                   ABEIJÓN BASSET, FRANCO   98762   39171584\n",
       "23           24                ABELE, ANTONELLA CATERINA   94512   37432783\n",
       "24           25                        ABELENDA, FACUNDO   93590   36636391\n",
       "25           26                  ABELLA, DIEGO ALEJANDRO   84443   31438529\n",
       "26           27                       ABENTIN, FRANCISCO   79277   27778370\n",
       "27           28                        ABERASTURY, LUCÍA   93150   36158896\n",
       "28           29                      ABERASTURY, MARIANA   91087   34744380\n",
       "29           30                     ABIERI, JUAN AUGUSTO   97483   38886785\n",
       "...         ...                                      ...     ...        ...\n",
       "13194     13195               de URTIAGA, RODRIGO ADOLFO   93344   36688572\n",
       "13195     13196               de VALAIS, EZEQUIEL MARTIN   94463   36882289\n",
       "13196     13197                   de VEDIA, SEGUNDO JOSE   99720   39334126\n",
       "13197     13198                           de VERA, SOFÍA  100982   39756599\n",
       "13198     13199            de ZABALETA CLERICI, GERVASIO   97825   39417045\n",
       "13199     13200         de la FUENTE BADANO, JUAN MANUEL   89647   34001308\n",
       "13200     13201                     de la FUENTE, HERNAN   95730   38202215\n",
       "13201     13202  de la HORRA GATTELLI, NATALIA GUADALUPE   92555   34080467\n",
       "13202     13203              de la PLATA, FACUNDO GASTON  100558   40132040\n",
       "13203     13204                        de la RUA, MANUEL   93692   36728382\n",
       "13204     13205                       de la VEGA, MARTÍN   90665   34434804\n",
       "13205     13206                    de los HEROS, AGUSTIN  101897   40063610\n",
       "13206     13207                    de los HEROS, LAUTARO   95414   38300972\n",
       "13207     13208                  de los HEROS, MARIANELA   93050   35992265\n",
       "13208     13209            de los SANTOS, RODRIGO MARTÍN   92380   35969203\n",
       "13209     13210      del CAMPO CARRANZA, CRISTIAN ANDRES   93775   36153564\n",
       "13210     13211                 del ESTAL, LUCAS GABRIEL   94430   37339421\n",
       "13211     13212                       del MAZO, FEDERICO  100029   40230465\n",
       "13212     13213               del MOLINO TORRES, JOAQUIN   99369   39909107\n",
       "13213     13214              del POZO, FRANCISCO MARCELO  101656   39773918\n",
       "13214     13215                 del PRADO, JORGE ALBERTO   93554   13844363\n",
       "13215     13216                      del PRIORE, JOAQUIN   93710   36399053\n",
       "13216     13217                    del RIO, JUAN AGUSTIN   81812   29866529\n",
       "13217     13218                     del VALLE, FRANCISCO   97946   39667422\n",
       "13218     13219            di ROSSO, ALEJANDRO FRANCISCO   85605   31987144\n",
       "13219     13220                 di TADA, SANTIAGO DANIEL   96055   38268295\n",
       "13220     13221                  van den BROECK, IGNACIO  100044   40008734\n",
       "13221     13222                   ÁLVAREZ, DARÍO GONZALO   86076   31917236\n",
       "13222     13223          ÁNGEL ENRÍQUEZ, CARLOS JOSAPHAT  100404  G18960304\n",
       "13223     13224                            ÑAÑEZ, MATIAS   94951   36452694\n",
       "\n",
       "[13224 rows x 4 columns]"
      ]
     },
     "execution_count": 193,
     "metadata": {},
     "output_type": "execute_result"
    }
   ],
   "source": [
    "cei_17"
   ]
  },
  {
   "cell_type": "code",
   "execution_count": 194,
   "metadata": {
    "collapsed": true
   },
   "outputs": [],
   "source": [
    "cei_17.to_csv(\"padron_cei_2017.csv\", index=False)"
   ]
  },
  {
   "cell_type": "markdown",
   "metadata": {},
   "source": [
    "## Padrón exclusivo del CEI\n",
    "Los que solo votan en CEI y no están en el padrón del CD."
   ]
  },
  {
   "cell_type": "code",
   "execution_count": 195,
   "metadata": {
    "collapsed": false
   },
   "outputs": [
    {
     "data": {
      "text/plain": [
       "8673"
      ]
     },
     "execution_count": 195,
     "metadata": {},
     "output_type": "execute_result"
    }
   ],
   "source": [
    "cei_en_cd = cei_17[cei_17.DNI.isin(cd_17.DNI)]\n",
    "len(cei_en_cd)"
   ]
  },
  {
   "cell_type": "code",
   "execution_count": 196,
   "metadata": {
    "collapsed": false
   },
   "outputs": [
    {
     "data": {
      "text/plain": [
       "8673"
      ]
     },
     "execution_count": 196,
     "metadata": {},
     "output_type": "execute_result"
    }
   ],
   "source": [
    "cei_en_cd_pad = cei_17[cei_17[\"Padrón\"].isin(cd_17[\"Padrón\"])]\n",
    "len(cei_en_cd_pad)"
   ]
  },
  {
   "cell_type": "code",
   "execution_count": 197,
   "metadata": {
    "collapsed": false
   },
   "outputs": [
    {
     "data": {
      "text/plain": [
       "8672"
      ]
     },
     "execution_count": 197,
     "metadata": {},
     "output_type": "execute_result"
    }
   ],
   "source": [
    "cei_en_cd_pad.DNI.isin(cei_en_cd.DNI).sum()"
   ]
  },
  {
   "cell_type": "code",
   "execution_count": 198,
   "metadata": {
    "collapsed": false
   },
   "outputs": [
    {
     "data": {
      "text/html": [
       "<div>\n",
       "<table border=\"1\" class=\"dataframe\">\n",
       "  <thead>\n",
       "    <tr style=\"text-align: right;\">\n",
       "      <th></th>\n",
       "      <th>N° Orden</th>\n",
       "      <th>NOMBRE</th>\n",
       "      <th>Padrón</th>\n",
       "      <th>DNI</th>\n",
       "    </tr>\n",
       "  </thead>\n",
       "  <tbody>\n",
       "    <tr>\n",
       "      <th>3802</th>\n",
       "      <td>3803</td>\n",
       "      <td>DITO, LEANDRO KAMANGOTO GERALDO</td>\n",
       "      <td>91758</td>\n",
       "      <td>6030</td>\n",
       "    </tr>\n",
       "  </tbody>\n",
       "</table>\n",
       "</div>"
      ],
      "text/plain": [
       "      N° Orden                           NOMBRE Padrón   DNI\n",
       "3802      3803  DITO, LEANDRO KAMANGOTO GERALDO  91758  6030"
      ]
     },
     "execution_count": 198,
     "metadata": {},
     "output_type": "execute_result"
    }
   ],
   "source": [
    "cei_en_cd_pad[~cei_en_cd_pad.DNI.isin(cei_en_cd.DNI)]"
   ]
  },
  {
   "cell_type": "code",
   "execution_count": 199,
   "metadata": {
    "collapsed": false
   },
   "outputs": [
    {
     "data": {
      "text/html": [
       "<div>\n",
       "<table border=\"1\" class=\"dataframe\">\n",
       "  <thead>\n",
       "    <tr style=\"text-align: right;\">\n",
       "      <th></th>\n",
       "      <th>N° Orden</th>\n",
       "      <th>NOMBRE</th>\n",
       "      <th>Padrón</th>\n",
       "      <th>DNI</th>\n",
       "    </tr>\n",
       "  </thead>\n",
       "  <tbody>\n",
       "    <tr>\n",
       "      <th>10912</th>\n",
       "      <td>10913</td>\n",
       "      <td>SALAZAR VARGAS, CARLOS ROBERTO</td>\n",
       "      <td>B0239</td>\n",
       "      <td>93890243</td>\n",
       "    </tr>\n",
       "  </tbody>\n",
       "</table>\n",
       "</div>"
      ],
      "text/plain": [
       "       N° Orden                          NOMBRE Padrón       DNI\n",
       "10912     10913  SALAZAR VARGAS, CARLOS ROBERTO  B0239  93890243"
      ]
     },
     "execution_count": 199,
     "metadata": {},
     "output_type": "execute_result"
    }
   ],
   "source": [
    "cei_en_cd[~cei_en_cd.DNI.isin(cei_en_cd_pad.DNI)]"
   ]
  },
  {
   "cell_type": "markdown",
   "metadata": {},
   "source": [
    "Hay uno extra por padroń y uno extra por DNI. Vamos a sacar los dos."
   ]
  },
  {
   "cell_type": "code",
   "execution_count": 205,
   "metadata": {
    "collapsed": true
   },
   "outputs": [],
   "source": [
    "cei_17 = cei_17[~cei_17.DNI.isin(cd_17.DNI)]\n",
    "cei_17 = cei_17[~cei_17[\"Padrón\"].isin(cd_17[\"Padrón\"])]"
   ]
  },
  {
   "cell_type": "code",
   "execution_count": 206,
   "metadata": {
    "collapsed": false
   },
   "outputs": [
    {
     "data": {
      "text/plain": [
       "4550"
      ]
     },
     "execution_count": 206,
     "metadata": {},
     "output_type": "execute_result"
    }
   ],
   "source": [
    "len(cei_17)"
   ]
  },
  {
   "cell_type": "code",
   "execution_count": 207,
   "metadata": {
    "collapsed": false
   },
   "outputs": [
    {
     "data": {
      "text/html": [
       "<div>\n",
       "<table border=\"1\" class=\"dataframe\">\n",
       "  <thead>\n",
       "    <tr style=\"text-align: right;\">\n",
       "      <th></th>\n",
       "      <th>N° Orden</th>\n",
       "      <th>NOMBRE</th>\n",
       "      <th>Padrón</th>\n",
       "      <th>DNI</th>\n",
       "    </tr>\n",
       "  </thead>\n",
       "  <tbody>\n",
       "    <tr>\n",
       "      <th>0</th>\n",
       "      <td>1</td>\n",
       "      <td>AAS, PETTER FOSSAN</td>\n",
       "      <td>100346</td>\n",
       "      <td>29086232</td>\n",
       "    </tr>\n",
       "    <tr>\n",
       "      <th>1</th>\n",
       "      <td>2</td>\n",
       "      <td>ABABOU, KHALIL</td>\n",
       "      <td>97708</td>\n",
       "      <td>RA1057904</td>\n",
       "    </tr>\n",
       "    <tr>\n",
       "      <th>3</th>\n",
       "      <td>4</td>\n",
       "      <td>ABAD, MANUEL</td>\n",
       "      <td>89007</td>\n",
       "      <td>32553674</td>\n",
       "    </tr>\n",
       "    <tr>\n",
       "      <th>9</th>\n",
       "      <td>10</td>\n",
       "      <td>ABATE, FERNANDO ANGEL</td>\n",
       "      <td>71962</td>\n",
       "      <td>23277085</td>\n",
       "    </tr>\n",
       "    <tr>\n",
       "      <th>10</th>\n",
       "      <td>11</td>\n",
       "      <td>ABATE, MIGUEL AGUSTÍN</td>\n",
       "      <td>84084</td>\n",
       "      <td>31207574</td>\n",
       "    </tr>\n",
       "  </tbody>\n",
       "</table>\n",
       "</div>"
      ],
      "text/plain": [
       "    N° Orden                 NOMBRE  Padrón        DNI\n",
       "0          1     AAS, PETTER FOSSAN  100346   29086232\n",
       "1          2         ABABOU, KHALIL   97708  RA1057904\n",
       "3          4           ABAD, MANUEL   89007   32553674\n",
       "9         10  ABATE, FERNANDO ANGEL   71962   23277085\n",
       "10        11  ABATE, MIGUEL AGUSTÍN   84084   31207574"
      ]
     },
     "execution_count": 207,
     "metadata": {},
     "output_type": "execute_result"
    }
   ],
   "source": [
    "cei_17.to_csv(\"cei_exclusivo.csv\", index=)"
   ]
  },
  {
   "cell_type": "markdown",
   "metadata": {},
   "source": [
    "## Casos raros"
   ]
  },
  {
   "cell_type": "code",
   "execution_count": 202,
   "metadata": {
    "collapsed": false
   },
   "outputs": [],
   "source": [
    "padrones_no_numericos = pd.to_numeric(cei_16[\"Padrón\"], errors=\"force\").isnull()"
   ]
  },
  {
   "cell_type": "code",
   "execution_count": 203,
   "metadata": {
    "collapsed": false
   },
   "outputs": [
    {
     "data": {
      "text/html": [
       "<div>\n",
       "<table border=\"1\" class=\"dataframe\">\n",
       "  <thead>\n",
       "    <tr style=\"text-align: right;\">\n",
       "      <th></th>\n",
       "      <th>N° ORDEN</th>\n",
       "      <th>NOMBRE</th>\n",
       "      <th>Padrón</th>\n",
       "      <th>DNI</th>\n",
       "    </tr>\n",
       "  </thead>\n",
       "  <tbody>\n",
       "    <tr>\n",
       "      <th>9780</th>\n",
       "      <td>9781</td>\n",
       "      <td>SALAZAR VARGAS, CARLOS ROBERTO</td>\n",
       "      <td>B0239</td>\n",
       "      <td>93890243</td>\n",
       "    </tr>\n",
       "  </tbody>\n",
       "</table>\n",
       "</div>"
      ],
      "text/plain": [
       "      N° ORDEN                          NOMBRE Padrón       DNI\n",
       "9780      9781  SALAZAR VARGAS, CARLOS ROBERTO  B0239  93890243"
      ]
     },
     "execution_count": 203,
     "metadata": {},
     "output_type": "execute_result"
    }
   ],
   "source": [
    "cei_16[padrones_no_numericos]"
   ]
  },
  {
   "cell_type": "code",
   "execution_count": 204,
   "metadata": {
    "collapsed": false
   },
   "outputs": [
    {
     "data": {
      "text/html": [
       "<div>\n",
       "<table border=\"1\" class=\"dataframe\">\n",
       "  <thead>\n",
       "    <tr style=\"text-align: right;\">\n",
       "      <th></th>\n",
       "      <th>N° ORDEN</th>\n",
       "      <th>NOMBRE</th>\n",
       "      <th>Padrón</th>\n",
       "      <th>DNI</th>\n",
       "    </tr>\n",
       "  </thead>\n",
       "  <tbody>\n",
       "    <tr>\n",
       "      <th>629</th>\n",
       "      <td>630</td>\n",
       "      <td>BALDOCEDA HUALLPA, MAXIMO                      B</td>\n",
       "      <td>204</td>\n",
       "      <td>92859860</td>\n",
       "    </tr>\n",
       "    <tr>\n",
       "      <th>7243</th>\n",
       "      <td>7244</td>\n",
       "      <td>SALAZAR VARGAS, CARLOS ROBERTO                 B</td>\n",
       "      <td>239</td>\n",
       "      <td>93890243</td>\n",
       "    </tr>\n",
       "    <tr>\n",
       "      <th>8260</th>\n",
       "      <td>8261</td>\n",
       "      <td>VARGAS PÉREZ, VILMA JUANA                      B</td>\n",
       "      <td>206</td>\n",
       "      <td>92892429</td>\n",
       "    </tr>\n",
       "  </tbody>\n",
       "</table>\n",
       "</div>"
      ],
      "text/plain": [
       "      N° ORDEN                                            NOMBRE Padrón  \\\n",
       "629        630  BALDOCEDA HUALLPA, MAXIMO                      B    204   \n",
       "7243      7244  SALAZAR VARGAS, CARLOS ROBERTO                 B    239   \n",
       "8260      8261  VARGAS PÉREZ, VILMA JUANA                      B    206   \n",
       "\n",
       "           DNI  \n",
       "629   92859860  \n",
       "7243  93890243  \n",
       "8260  92892429  "
      ]
     },
     "execution_count": 204,
     "metadata": {},
     "output_type": "execute_result"
    }
   ],
   "source": [
    "cd_17[cd_17[\"Padrón\"].str.len() < 5]"
   ]
  }
 ],
 "metadata": {
  "kernelspec": {
   "display_name": "Python 3",
   "language": "python",
   "name": "python3"
  },
  "language_info": {
   "codemirror_mode": {
    "name": "ipython",
    "version": 3
   },
   "file_extension": ".py",
   "mimetype": "text/x-python",
   "name": "python",
   "nbconvert_exporter": "python",
   "pygments_lexer": "ipython3",
   "version": "3.6.0"
  }
 },
 "nbformat": 4,
 "nbformat_minor": 2
}
